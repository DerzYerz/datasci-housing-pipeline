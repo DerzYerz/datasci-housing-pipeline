{
 "cells": [
  {
   "cell_type": "markdown",
   "metadata": {},
   "source": [
    "# Produces dataset of project times from appended pipeline datasets (\"all_quarters_merged.csv\")"
   ]
  },
  {
   "cell_type": "code",
   "execution_count": null,
   "metadata": {
    "collapsed": true
   },
   "outputs": [],
   "source": [
    "import pandas as pd\n",
    "import logging\n",
    "import dateutil\n",
    "from dateutil import parser\n",
    "import numpy as np\n",
    "import matplotlib.pyplot as plt\n",
    "%matplotlib inline\n",
    "pd.set_option('display.max_columns', 500)"
   ]
  },
  {
   "cell_type": "code",
   "execution_count": null,
   "metadata": {
    "collapsed": true
   },
   "outputs": [],
   "source": [
    "logging.basicConfig(level=logging.INFO)"
   ]
  },
  {
   "cell_type": "markdown",
   "metadata": {},
   "source": [
    "# Code Broken Down"
   ]
  },
  {
   "cell_type": "code",
   "execution_count": null,
   "metadata": {
    "collapsed": false
   },
   "outputs": [],
   "source": [
    "df = pd.read_csv(\"cleaned/all_quarters_merged.csv\")"
   ]
  },
  {
   "cell_type": "code",
   "execution_count": null,
   "metadata": {
    "collapsed": false
   },
   "outputs": [],
   "source": [
    "# keep only variables of interest\n",
    "list = ['address', 'apn', 'best_date', 'best_stat','firstfiled', 'report_quarter', 'report_year', 'units', 'unitsnet', 'dbi_permit', 'x', 'y']\n",
    "df = df[list]"
   ]
  },
  {
   "cell_type": "code",
   "execution_count": null,
   "metadata": {
    "collapsed": false
   },
   "outputs": [],
   "source": [
    "#consolidate status categories. Start with 3 for now\n",
    "def status_function(value):\n",
    "    if value['best_stat']==\"CONSTRUCTION\":\n",
    "        field = 'Under Construction'\n",
    "    elif (value['best_stat']=='BP APPROVED') | (value['best_stat']=='BP ISSUED') | (value['best_stat']=='BP REINSTATED'):\n",
    "        field = 'Building Permit Approved'\n",
    "    else:\n",
    "        field = 'Proposed'\n",
    "    return field\n",
    "        \n",
    "df['status']=df.apply(status_function, axis=1)"
   ]
  },
  {
   "cell_type": "code",
   "execution_count": null,
   "metadata": {
    "collapsed": false
   },
   "outputs": [],
   "source": [
    "gb = df.groupby(['apn', 'address'])"
   ]
  },
  {
   "cell_type": "code",
   "execution_count": null,
   "metadata": {
    "collapsed": false
   },
   "outputs": [],
   "source": [
    "gb.groups"
   ]
  },
  {
   "cell_type": "code",
   "execution_count": null,
   "metadata": {
    "collapsed": false
   },
   "outputs": [],
   "source": [
    "group_df = gb.get_group(('0829040','526 HICKORY ST'))"
   ]
  },
  {
   "cell_type": "code",
   "execution_count": null,
   "metadata": {
    "collapsed": false
   },
   "outputs": [],
   "source": [
    "group_df = group_df.sort('best_date')\n",
    "group_df.reset_index(drop=True, inplace=True)"
   ]
  },
  {
   "cell_type": "code",
   "execution_count": null,
   "metadata": {
    "collapsed": false,
    "scrolled": true
   },
   "outputs": [],
   "source": [
    "group_df"
   ]
  },
  {
   "cell_type": "code",
   "execution_count": null,
   "metadata": {
    "collapsed": false
   },
   "outputs": [],
   "source": [
    "# identify building permit ID. Then fill in rest of quarters with this permit ID.\n",
    "building_permit=np.nan\n",
    "for index, row in group_df.iterrows():\n",
    "    if pd.isnull(row['dbi_permit']) and not pd.isnull(building_permit):\n",
    "        building_permit=building_permit\n",
    "    else:\n",
    "        building_permit = row['dbi_permit']"
   ]
  },
  {
   "cell_type": "code",
   "execution_count": null,
   "metadata": {
    "collapsed": false
   },
   "outputs": [],
   "source": [
    "building_permit"
   ]
  },
  {
   "cell_type": "code",
   "execution_count": null,
   "metadata": {
    "collapsed": true
   },
   "outputs": [],
   "source": [
    "group_df['dbi_permit']=building_permit"
   ]
  },
  {
   "cell_type": "code",
   "execution_count": null,
   "metadata": {
    "collapsed": false
   },
   "outputs": [],
   "source": [
    "#Identify completion quarter\n",
    "for index, row in group_df.iterrows():\n",
    "    if row['best_stat'] !='CONSTRUCTION':\n",
    "        comp_quarter= np.nan\n",
    "        comp_year=np.nan\n",
    "    elif row['best_stat'] == 'CONSTRUCTION':\n",
    "        comp_quarter = row['report_quarter']\n",
    "        comp_year = row['report_year']\n",
    "\n",
    "if pd.isnull(comp_quarter):\n",
    "    pass\n",
    "if comp_quarter == 4 and comp_year == 2016:\n",
    "    comp_quarter = np.nan\n",
    "elif comp_quarter == 4:\n",
    "    comp_quarter = 1\n",
    "    comp_year = 1+comp_year\n",
    "else:\n",
    "    comp_quarter = 1+comp_quarter\n",
    "    "
   ]
  },
  {
   "cell_type": "code",
   "execution_count": null,
   "metadata": {
    "collapsed": false
   },
   "outputs": [],
   "source": [
    "if comp_quarter ==1:\n",
    "    comp_daymth= '01/01'\n",
    "elif comp_quarter ==2:\n",
    "    comp_daymth= '04/01'\n",
    "elif comp_quarter==3:\n",
    "    comp_daymth= '07/01'\n",
    "elif comp_quarter == 4:\n",
    "    comp_daymth= '10/01'\n",
    "elif pd.isnull(comp_quarter):\n",
    "    comp_daymth=np.nan\n",
    "    \n",
    "if pd.isnull(comp_daymth):\n",
    "    comp_date = np.nan\n",
    "else:\n",
    "    comp_date = comp_daymth + \"/\" + str(comp_year)"
   ]
  },
  {
   "cell_type": "code",
   "execution_count": null,
   "metadata": {
    "collapsed": false
   },
   "outputs": [],
   "source": [
    "comp_date"
   ]
  },
  {
   "cell_type": "code",
   "execution_count": null,
   "metadata": {
    "collapsed": false
   },
   "outputs": [],
   "source": [
    "#Identify earliest \"firstfiled\" date\n",
    "firstfiled = ''\n",
    "for index, row in group_df.iterrows():\n",
    "    if pd.isnull(row['firstfiled']):\n",
    "        continue\n",
    "    else:\n",
    "        if len(firstfiled) == 0:\n",
    "            firstfiled = row['firstfiled']\n",
    "        else:\n",
    "            continue"
   ]
  },
  {
   "cell_type": "code",
   "execution_count": null,
   "metadata": {
    "collapsed": true
   },
   "outputs": [],
   "source": [
    "#Identify earliest best date\n",
    "earliest_BD = ''\n",
    "for index, row in group_df.iterrows():\n",
    "    if pd.isnull(row['best_date']):\n",
    "        continue\n",
    "    else:\n",
    "        if len(earliest_BD) == 0:\n",
    "            earliest_BD = row['best_date']\n",
    "        else:\n",
    "            continue"
   ]
  },
  {
   "cell_type": "code",
   "execution_count": null,
   "metadata": {
    "collapsed": false
   },
   "outputs": [],
   "source": [
    "firstfiled"
   ]
  },
  {
   "cell_type": "code",
   "execution_count": null,
   "metadata": {
    "collapsed": false
   },
   "outputs": [],
   "source": [
    "earliest_BD"
   ]
  },
  {
   "cell_type": "code",
   "execution_count": null,
   "metadata": {
    "collapsed": false
   },
   "outputs": [],
   "source": [
    "# Finalize first date variable (minimum of earliest best_date and firstfiled)\n",
    "if firstfiled =='' and earliest_BD !='':\n",
    "    first_date = earliest_BD\n",
    "elif earliest_BD=='' and firstfiled !='':\n",
    "    first_date = firstfiled\n",
    "elif firstfiled !='' and earliest_BD !='':\n",
    "    first_date = min(firstfiled, earliest_BD)"
   ]
  },
  {
   "cell_type": "code",
   "execution_count": null,
   "metadata": {
    "collapsed": false
   },
   "outputs": [],
   "source": [
    "first_date"
   ]
  },
  {
   "cell_type": "code",
   "execution_count": null,
   "metadata": {
    "collapsed": true
   },
   "outputs": [],
   "source": [
    "# initiate variables. Groups without these dates are blank for these variables.\n",
    "BP_date = ''\n",
    "con_date = ''\n",
    "\n",
    "#Identify first date for all status categories\n",
    "m=0\n",
    "for index, row in group_df.iterrows():\n",
    "    if m == 0:\n",
    "        status_previous = 'blah'\n",
    "    if row['status']=='Building Permit Approved':\n",
    "        if index == 0:\n",
    "            BP_date = row['best_date']\n",
    "        elif index !=0:\n",
    "            if status_previous =='Building Permit Approved':\n",
    "                BP_date=BP_date\n",
    "            else:\n",
    "                BP_date = row['best_date']\n",
    "    elif row['status']=='Under Construction':\n",
    "        if index == 0:\n",
    "            con_date = row['best_date']\n",
    "        elif index !=0:\n",
    "            if status_previous =='Under Construction':\n",
    "                con_date=con_date\n",
    "            else:\n",
    "                con_date = row['best_date']\n",
    "    status_previous = row['status']\n",
    "    m=m+1"
   ]
  },
  {
   "cell_type": "code",
   "execution_count": null,
   "metadata": {
    "collapsed": false
   },
   "outputs": [],
   "source": [
    "print (BP_date, con_date)"
   ]
  },
  {
   "cell_type": "code",
   "execution_count": null,
   "metadata": {
    "collapsed": true
   },
   "outputs": [],
   "source": [
    "last_row = group_df.tail(1).copy() #most recent row"
   ]
  },
  {
   "cell_type": "code",
   "execution_count": null,
   "metadata": {
    "collapsed": false
   },
   "outputs": [],
   "source": [
    "last_row"
   ]
  },
  {
   "cell_type": "code",
   "execution_count": null,
   "metadata": {
    "collapsed": false
   },
   "outputs": [],
   "source": [
    "last_row['latest_project_record_date'] = last_row.best_date\n",
    "last_row['first_project_record_date'] = group_df.iloc[0].best_date\n",
    "last_row['latest_project_status'] = last_row.best_stat"
   ]
  },
  {
   "cell_type": "code",
   "execution_count": null,
   "metadata": {
    "collapsed": false
   },
   "outputs": [],
   "source": [
    "last_row"
   ]
  },
  {
   "cell_type": "code",
   "execution_count": null,
   "metadata": {
    "collapsed": true
   },
   "outputs": [],
   "source": [
    "## Store a parseable list of all the project states and the dates those states were reported\n",
    "last_row['project_dates'] = str(tuple(group_df.best_date))\n",
    "last_row['project_statuses'] = str(tuple(group_df.best_stat))"
   ]
  },
  {
   "cell_type": "code",
   "execution_count": null,
   "metadata": {
    "collapsed": false
   },
   "outputs": [],
   "source": [
    "last_row"
   ]
  },
  {
   "cell_type": "code",
   "execution_count": null,
   "metadata": {
    "collapsed": false
   },
   "outputs": [],
   "source": [
    "## Store the project duration in days\n",
    "latest = last_row.latest_project_record_date.iloc[0]\n",
    "first = last_row.first_project_record_date.iloc[0]\n"
   ]
  },
  {
   "cell_type": "code",
   "execution_count": null,
   "metadata": {
    "collapsed": true
   },
   "outputs": [],
   "source": [
    "if not (pd.isnull(latest) or pd.isnull(first)):\n",
    "    last_row['project_duration_days'] = (dateutil.parser.parse(latest) - dateutil.parser.parse(first)).days"
   ]
  },
  {
   "cell_type": "code",
   "execution_count": null,
   "metadata": {
    "collapsed": false
   },
   "outputs": [],
   "source": [
    "last_row"
   ]
  },
  {
   "cell_type": "markdown",
   "metadata": {},
   "source": [
    "# Actual Code"
   ]
  },
  {
   "cell_type": "code",
   "execution_count": null,
   "metadata": {
    "collapsed": true
   },
   "outputs": [],
   "source": [
    "def convert_to_one_record_per_project(df):\n",
    "    \"\"\"\n",
    "    Group the dataset by (apn, address) and then emit one row per (apn, address) pair.\n",
    "    best_date and best_stat will be converted into arrays.\n",
    "    All other attributes will be taken from the record with the most recent `best_date` attribute.\n",
    "    \"\"\"\n",
    "    gb = df.groupby(['apn', 'address'])\n",
    "    for k in gb.groups:\n",
    "        group_df = gb.get_group(k)\n",
    "        group_df = group_df.sort('best_date')\n",
    "        last_row = group_df.tail(1).copy()\n",
    "        \n",
    "        # identify building permit ID. Then fill in rest of quarters with this permit ID.\n",
    "        building_permit=np.nan\n",
    "        for index, row in group_df.iterrows():\n",
    "            if pd.isnull(row['dbi_permit']) and not pd.isnull(building_permit):\n",
    "                building_permit=building_permit\n",
    "            else:\n",
    "                building_permit = row['dbi_permit']\n",
    "                \n",
    "        #Identify completion quarter for those projects that have reached completion\n",
    "        for index, row in group_df.iterrows():\n",
    "            if row['best_stat'] !='CONSTRUCTION':\n",
    "                comp_quarter= np.nan\n",
    "                comp_year=np.nan\n",
    "            elif row['best_stat'] == 'CONSTRUCTION':\n",
    "                comp_quarter = row['report_quarter']\n",
    "                comp_year = row['report_year']\n",
    "\n",
    "        if pd.isnull(comp_quarter):\n",
    "            pass\n",
    "        if comp_quarter == 4 and comp_year == 2016:\n",
    "            comp_quarter = np.nan\n",
    "        elif comp_quarter == 4:\n",
    "            comp_quarter = 1\n",
    "            comp_year = 1+comp_year\n",
    "        else:\n",
    "            comp_quarter = 1+comp_quarter\n",
    "            \n",
    "        if comp_quarter ==1:\n",
    "            comp_daymth= '01/01'\n",
    "        elif comp_quarter ==2:\n",
    "            comp_daymth= '04/01'\n",
    "        elif comp_quarter==3:\n",
    "            comp_daymth= '07/01'\n",
    "        elif comp_quarter == 4:\n",
    "            comp_daymth= '10/01'\n",
    "        elif pd.isnull(comp_quarter):\n",
    "            comp_daymth=np.nan\n",
    "\n",
    "        if pd.isnull(comp_daymth):\n",
    "            comp_date = np.nan\n",
    "        else:\n",
    "            comp_date = comp_daymth + \"/\" + str(comp_year)\n",
    "        \n",
    "        #Identify earliest \"firstfiled\" date\n",
    "        firstfiled = ''\n",
    "        for index, row in group_df.iterrows():\n",
    "            if pd.isnull(row['firstfiled']):\n",
    "                continue\n",
    "            else:\n",
    "                if len(firstfiled) == 0:\n",
    "                    firstfiled = row['firstfiled']\n",
    "                else:\n",
    "                    continue\n",
    "        \n",
    "        #Identify earliest best date\n",
    "        earliest_BD = ''\n",
    "        for index, row in group_df.iterrows():\n",
    "            if pd.isnull(row['best_date']):\n",
    "                continue\n",
    "            else:\n",
    "                if len(earliest_BD) == 0:\n",
    "                    earliest_BD = row['best_date']\n",
    "                else:\n",
    "                    continue\n",
    "        \n",
    "        # Finalize first date variable (minimum of earliest best_date and firstfiled)\n",
    "        if firstfiled =='' and earliest_BD !='':\n",
    "            first_date = earliest_BD\n",
    "        elif earliest_BD=='' and firstfiled !='':\n",
    "            first_date = firstfiled\n",
    "        elif firstfiled !='' and earliest_BD !='':\n",
    "            first_date = min(firstfiled, earliest_BD)\n",
    "            \n",
    "        # initiate variables. Groups without these dates are blank for these variables.\n",
    "        BP_date = ''\n",
    "        con_date = ''\n",
    "\n",
    "        #Identify first date for all status categories\n",
    "        m=0\n",
    "        for index, row in group_df.iterrows():\n",
    "            if m == 0:\n",
    "                status_previous = 'blah'\n",
    "            if row['status']=='Building Permit Approved':\n",
    "                if index == 0:\n",
    "                    BP_date = row['best_date']\n",
    "                elif index !=0:\n",
    "                    if status_previous =='Building Permit Approved':\n",
    "                        BP_date=BP_date\n",
    "                    else:\n",
    "                        BP_date = row['best_date']\n",
    "            elif row['status']=='Under Construction':\n",
    "                if index == 0:\n",
    "                    con_date = row['best_date']\n",
    "                elif index !=0:\n",
    "                    if status_previous =='Under Construction':\n",
    "                        con_date=con_date\n",
    "                    else:\n",
    "                        con_date = row['best_date']\n",
    "            status_previous = row['status']\n",
    "            m=m+1\n",
    "        \n",
    "        last_row['dbi_permit']= building_permit\n",
    "        last_row['comp_date']=comp_date\n",
    "        last_row['BP_date'] = BP_date\n",
    "        last_row['con_date'] = con_date\n",
    "        last_row['first_date']=first_date\n",
    "        last_row['latest_project_record_date'] = last_row.best_date\n",
    "        last_row['first_project_record_date'] = group_df.iloc[0].best_date\n",
    "        last_row['latest_project_status'] = last_row.best_stat\n",
    "\n",
    "        ## Store a parseable list of all the project states and the dates those states were reported\n",
    "        last_row['project_dates'] = str(tuple(group_df.best_date))\n",
    "        last_row['project_statuses'] = str(tuple(group_df.best_stat))\n",
    "\n",
    "        ## Store the project duration in days\n",
    "        if not (pd.isnull(comp_date) or pd.isnull(first_date)):\n",
    "            last_row['project_duration_days'] = (dateutil.parser.parse(comp_date) - dateutil.parser.parse(first_date)).days\n",
    "\n",
    "        yield last_row\n",
    "\n",
    "\n",
    "def main():\n",
    "    df = pd.read_csv(\"cleaned/all_quarters_merged.csv\")\n",
    "    #consolidate status categories. Start with 3 for now\n",
    "    def status_function(value):\n",
    "        if value['best_stat']==\"CONSTRUCTION\":\n",
    "            field = 'Under Construction'\n",
    "        elif (value['best_stat']=='BP APPROVED') | (value['best_stat']=='BP ISSUED') | (value['best_stat']=='BP REINSTATED'):\n",
    "            field = 'Building Permit Approved'\n",
    "        else:\n",
    "            field = 'Proposed'\n",
    "        return field\n",
    "\n",
    "    df['status']=df.apply(status_function, axis=1)\n",
    "    \n",
    "    #keep only variables we want\n",
    "    list = ['address', 'apn', 'best_date', 'best_stat','status', 'firstfiled', 'report_quarter', 'report_year','units','unitsnet', 'dbi_permit', 'x', 'y']\n",
    "    df = df[list]\n",
    "    new_df = pd.concat(convert_to_one_record_per_project(df))\n",
    "    logging.info(\"Writing output ({} rows, {} cols) to data/cleaned/all_quarters__one_record_per_project.csv\".format(*new_df.shape))\n",
    "    new_df.to_csv(\"cleaned/all_quarters__one_record_per_project.csv\")\n",
    "    return new_df"
   ]
  },
  {
   "cell_type": "code",
   "execution_count": null,
   "metadata": {
    "collapsed": false
   },
   "outputs": [],
   "source": [
    "new_df = main()"
   ]
  },
  {
   "cell_type": "code",
   "execution_count": null,
   "metadata": {
    "collapsed": false
   },
   "outputs": [],
   "source": [
    "new_df.head()"
   ]
  },
  {
   "cell_type": "code",
   "execution_count": null,
   "metadata": {
    "collapsed": true
   },
   "outputs": [],
   "source": [
    "#First, filter out those projects that are exclusively non-residential (defined as those without units)\n",
    "new_df = new_df[new_df['units'] > 0]"
   ]
  },
  {
   "cell_type": "code",
   "execution_count": null,
   "metadata": {
    "collapsed": true
   },
   "outputs": [],
   "source": [
    "#Next, keep only those that reached completion at some point over the time period\n",
    "new_df=new_df[pd.notnull(new_df['comp_date'])]"
   ]
  },
  {
   "cell_type": "code",
   "execution_count": null,
   "metadata": {
    "collapsed": false
   },
   "outputs": [],
   "source": [
    "new_df.head()"
   ]
  },
  {
   "cell_type": "code",
   "execution_count": null,
   "metadata": {
    "collapsed": false
   },
   "outputs": [],
   "source": [
    "#Finally, filter out records with duplicate BP Ids\n",
    "new_df[new_df.duplicated('dbi_permit', keep=False)]['address'].unique()\n"
   ]
  },
  {
   "cell_type": "code",
   "execution_count": null,
   "metadata": {
    "collapsed": true
   },
   "outputs": [],
   "source": []
  },
  {
   "cell_type": "code",
   "execution_count": null,
   "metadata": {
    "collapsed": false
   },
   "outputs": [],
   "source": [
    "#explore duplicated\n",
    "new_df[new_df['address']=='1190 MISSION ST']"
   ]
  },
  {
   "cell_type": "code",
   "execution_count": null,
   "metadata": {
    "collapsed": false
   },
   "outputs": [],
   "source": [
    "# Same project, different address-apn combination—verified by looking at each address in PIM\n",
    "new_df[new_df['dbi_permit']=='201012166843']"
   ]
  },
  {
   "cell_type": "code",
   "execution_count": null,
   "metadata": {
    "collapsed": false
   },
   "outputs": [],
   "source": [
    "#explore duplicated\n",
    "new_df[new_df['address']=='2155 WEBSTER ST']"
   ]
  },
  {
   "cell_type": "code",
   "execution_count": null,
   "metadata": {
    "collapsed": false
   },
   "outputs": [],
   "source": [
    "new_df[new_df['dbi_permit']=='201311222660']"
   ]
  },
  {
   "cell_type": "code",
   "execution_count": null,
   "metadata": {
    "collapsed": true
   },
   "outputs": [],
   "source": []
  }
 ],
 "metadata": {
  "anaconda-cloud": {},
  "kernelspec": {
   "display_name": "Python [Root]",
   "language": "python",
   "name": "Python [Root]"
  },
  "language_info": {
   "codemirror_mode": {
    "name": "ipython",
    "version": 3
   },
   "file_extension": ".py",
   "mimetype": "text/x-python",
   "name": "python",
   "nbconvert_exporter": "python",
   "pygments_lexer": "ipython3",
   "version": "3.5.2"
  }
 },
 "nbformat": 4,
 "nbformat_minor": 0
}
