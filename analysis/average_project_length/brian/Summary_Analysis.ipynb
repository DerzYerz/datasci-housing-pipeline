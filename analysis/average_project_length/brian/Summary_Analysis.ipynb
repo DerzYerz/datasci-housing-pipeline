{
 "cells": [
  {
   "cell_type": "markdown",
   "metadata": {},
   "source": [
    "# Analysis from Brian Goggin (uses newly-produced data as of September 2017)"
   ]
  },
  {
   "cell_type": "code",
   "execution_count": 80,
   "metadata": {
    "collapsed": true
   },
   "outputs": [],
   "source": [
    "import pandas as pd\n",
    "import logging\n",
    "import dateutil\n",
    "from dateutil import parser\n",
    "import numpy as np\n",
    "import matplotlib.pyplot as plt\n",
    "import geopandas as gpd\n",
    "from geopandas import GeoDataFrame\n",
    "from shapely.geometry import Point\n",
    "%matplotlib inline\n",
    "pd.set_option('display.max_columns', 500)"
   ]
  },
  {
   "cell_type": "code",
   "execution_count": 81,
   "metadata": {
    "collapsed": false
   },
   "outputs": [],
   "source": [
    "#import dataset of project times from \"data\" folder\n",
    "file = \"../../../data/cleaned/all_quarters__one_record_per_project.csv\"\n",
    "df = pd.read_csv(file)"
   ]
  },
  {
   "cell_type": "code",
   "execution_count": 82,
   "metadata": {
    "collapsed": true
   },
   "outputs": [],
   "source": [
    "#First, filter out those projects that are exclusively non-residential (defined as those without units)\n",
    "df = df[df['units'] > 0]"
   ]
  },
  {
   "cell_type": "code",
   "execution_count": 83,
   "metadata": {
    "collapsed": true
   },
   "outputs": [],
   "source": [
    "#Next, keep only those that reached completion at some point over the time period\n",
    "df=df[pd.notnull(df['comp_date'])]"
   ]
  },
  {
   "cell_type": "code",
   "execution_count": 84,
   "metadata": {
    "collapsed": false
   },
   "outputs": [
    {
     "data": {
      "text/plain": [
       "(943, 24)"
      ]
     },
     "execution_count": 84,
     "metadata": {},
     "output_type": "execute_result"
    }
   ],
   "source": [
    "df.shape"
   ]
  },
  {
   "cell_type": "code",
   "execution_count": 85,
   "metadata": {
    "collapsed": true
   },
   "outputs": [],
   "source": [
    "df=df[pd.notnull(df['firstfiled'])]"
   ]
  },
  {
   "cell_type": "code",
   "execution_count": 86,
   "metadata": {
    "collapsed": false
   },
   "outputs": [
    {
     "data": {
      "text/plain": [
       "(933, 24)"
      ]
     },
     "execution_count": 86,
     "metadata": {},
     "output_type": "execute_result"
    }
   ],
   "source": [
    "df.shape"
   ]
  },
  {
   "cell_type": "code",
   "execution_count": 87,
   "metadata": {
    "collapsed": false
   },
   "outputs": [],
   "source": [
    "#drop duplicates for now, until manual cleaning is done\n",
    "df= df[~ df.duplicated('dbi_permit', keep=False)]"
   ]
  },
  {
   "cell_type": "code",
   "execution_count": 88,
   "metadata": {
    "collapsed": false
   },
   "outputs": [
    {
     "data": {
      "text/plain": [
       "(872, 24)"
      ]
     },
     "execution_count": 88,
     "metadata": {},
     "output_type": "execute_result"
    }
   ],
   "source": [
    "df.shape"
   ]
  },
  {
   "cell_type": "code",
   "execution_count": 89,
   "metadata": {
    "collapsed": false
   },
   "outputs": [
    {
     "data": {
      "text/plain": [
       "count     872.000000\n",
       "mean     1649.308486\n",
       "std      1127.131210\n",
       "min       157.000000\n",
       "25%       786.000000\n",
       "50%      1376.500000\n",
       "75%      2250.000000\n",
       "max      8807.000000\n",
       "Name: project_duration_days, dtype: float64"
      ]
     },
     "execution_count": 89,
     "metadata": {},
     "output_type": "execute_result"
    }
   ],
   "source": [
    "#convert completion date to date variables type\n",
    "df['project_duration_days'].describe()"
   ]
  },
  {
   "cell_type": "code",
   "execution_count": 90,
   "metadata": {
    "collapsed": true
   },
   "outputs": [],
   "source": [
    "df['project_time_years']=df['project_duration_days']/365"
   ]
  },
  {
   "cell_type": "code",
   "execution_count": 91,
   "metadata": {
    "collapsed": false
   },
   "outputs": [
    {
     "data": {
      "text/plain": [
       "count    872.000000\n",
       "mean       4.518653\n",
       "std        3.088031\n",
       "min        0.430137\n",
       "25%        2.153425\n",
       "50%        3.771233\n",
       "75%        6.164384\n",
       "max       24.128767\n",
       "Name: project_time_years, dtype: float64"
      ]
     },
     "execution_count": 91,
     "metadata": {},
     "output_type": "execute_result"
    }
   ],
   "source": [
    "df['project_time_years'].describe()"
   ]
  },
  {
   "cell_type": "code",
   "execution_count": 92,
   "metadata": {
    "collapsed": false
   },
   "outputs": [
    {
     "data": {
      "image/png": "[encoded data removed]",
      "text/plain": [
       "<matplotlib.figure.Figure at 0x10d373048>"
      ]
     },
     "metadata": {},
     "output_type": "display_data"
    }
   ],
   "source": [
    "plt.figure(1, figsize=(10,10), )\n",
    "plt.suptitle('SF Housing Development Times', fontsize=20)\n",
    "plt.xlabel('Review Time (Years)', fontsize = 20)\n",
    "plt.ylabel('Number of Projects', fontsize = 20)\n",
    "ax = plt.hist(df['project_time_years'], bins=25, alpha=.6, color='g')\n",
    "plt.savefig('../../../hitogram.png')\n",
    "plt.show()"
   ]
  },
  {
   "cell_type": "code",
   "execution_count": 93,
   "metadata": {
    "collapsed": false
   },
   "outputs": [
    {
     "data": {
      "image/png": "[encoded data removed]",
      "text/plain": [
       "<matplotlib.figure.Figure at 0x10d373c88>"
      ]
     },
     "metadata": {},
     "output_type": "display_data"
    }
   ],
   "source": [
    "plt.figure(1, figsize=(8,6), )\n",
    "plt.suptitle('SF Housing Development Times', fontsize=14)\n",
    "plt.xlabel('Review Time (Days)')\n",
    "plt.ylabel('Number of Projects')\n",
    "ax = plt.hist(df['project_duration_days'], bins=25, alpha=.6, color='g')\n",
    "plt.show()"
   ]
  },
  {
   "cell_type": "code",
   "execution_count": 94,
   "metadata": {
    "collapsed": false
   },
   "outputs": [
    {
     "data": {
      "image/png": "[encoded data removed]",
      "text/plain": [
       "<matplotlib.figure.Figure at 0x10f927da0>"
      ]
     },
     "metadata": {},
     "output_type": "display_data"
    }
   ],
   "source": [
    "#Create dataset of net units added with \n",
    "list = []\n",
    "uniqueid = 0\n",
    "for index, row in df.iterrows():\n",
    "    amount = int(row['units'])\n",
    "    for units in range(0, amount):\n",
    "        dictionary = {}\n",
    "        dictionary['id']=uniqueid+1\n",
    "        dictionary['time']=row['project_time_years']\n",
    "        list.append(dictionary)\n",
    "        uniqueid=uniqueid+1\n",
    "df_units = pd.DataFrame(list)\n",
    "\n",
    "plt.figure(1, figsize=(10,10), )\n",
    "plt.suptitle('SF Housing Development Times', fontsize=20)\n",
    "plt.xlabel('Review Time (Years)', fontsize = 20)\n",
    "plt.ylabel('Number of Units Added', fontsize = 20)\n",
    "ax = plt.hist(df_units['time'], bins=25, alpha=.6, color='g')\n",
    "plt.savefig('../../../hitogram2.png')\n",
    "plt.show()"
   ]
  },
  {
   "cell_type": "code",
   "execution_count": 95,
   "metadata": {
    "collapsed": false
   },
   "outputs": [
    {
     "data": {
      "text/plain": [
       "count    24028.000000\n",
       "mean         6.418675\n",
       "std          4.178464\n",
       "min          0.430137\n",
       "25%          2.816438\n",
       "50%          5.024658\n",
       "75%          9.624658\n",
       "max         24.128767\n",
       "Name: time, dtype: float64"
      ]
     },
     "execution_count": 95,
     "metadata": {},
     "output_type": "execute_result"
    }
   ],
   "source": [
    "df_units['time'].describe()"
   ]
  },
  {
   "cell_type": "code",
   "execution_count": 96,
   "metadata": {
    "collapsed": false
   },
   "outputs": [
    {
     "data": {
      "text/plain": [
       "count    872.000000\n",
       "mean      27.555046\n",
       "std       80.132721\n",
       "min        1.000000\n",
       "25%        2.000000\n",
       "50%        2.000000\n",
       "75%        8.000000\n",
       "max      754.000000\n",
       "Name: units, dtype: float64"
      ]
     },
     "execution_count": 96,
     "metadata": {},
     "output_type": "execute_result"
    }
   ],
   "source": [
    "df['units'].describe()"
   ]
  },
  {
   "cell_type": "code",
   "execution_count": 97,
   "metadata": {
    "collapsed": false
   },
   "outputs": [],
   "source": [
    "unit_cutoffs=[10, 50, 100, 200]\n",
    "def unit_categories(value):\n",
    "    if value['units'] <unit_cutoffs[0]:\n",
    "        field = '0'+'-'+str(unit_cutoffs[0])\n",
    "    elif (value['units'] >=unit_cutoffs[0]) & (value['units'] <unit_cutoffs[1]):\n",
    "        field = str(unit_cutoffs[0])+'-'+str(unit_cutoffs[1])\n",
    "    elif (value['units']>= unit_cutoffs[1]) & (value['units'] <unit_cutoffs[2]):\n",
    "        field = str(unit_cutoffs[1])+'-'+str(unit_cutoffs[2])\n",
    "    elif (value['units']>= unit_cutoffs[2]) & (value['units'] <200):\n",
    "        field = str(unit_cutoffs[2])+'-'+str(unit_cutoffs[3])\n",
    "    elif value['units']>=200:\n",
    "        field = '>'+str(unit_cutoffs[3])\n",
    "    return field\n",
    "    \n",
    "df['unitcat']=df.apply(unit_categories, axis=1)"
   ]
  },
  {
   "cell_type": "code",
   "execution_count": 98,
   "metadata": {
    "collapsed": false
   },
   "outputs": [
    {
     "data": {
      "text/plain": [
       "0-10       666\n",
       "10-50       91\n",
       "50-100      48\n",
       "100-200     38\n",
       ">200        29\n",
       "Name: unitcat, dtype: int64"
      ]
     },
     "execution_count": 98,
     "metadata": {},
     "output_type": "execute_result"
    }
   ],
   "source": [
    "df['unitcat'].value_counts()"
   ]
  },
  {
   "cell_type": "code",
   "execution_count": 99,
   "metadata": {
    "collapsed": false
   },
   "outputs": [],
   "source": [
    "cat_medians=[]\n",
    "categories=['0-10', '10-50', '50-100', '100-200', '>200']\n",
    "for cat in categories:\n",
    "    median = df[df['unitcat']==cat]['project_duration_days'].median()\n",
    "    cat_medians.append(median)"
   ]
  },
  {
   "cell_type": "code",
   "execution_count": 100,
   "metadata": {
    "collapsed": true
   },
   "outputs": [],
   "source": [
    "objects = df['unitcat'].unique()\n",
    "y_pos = np.arange(len(objects))"
   ]
  },
  {
   "cell_type": "code",
   "execution_count": 101,
   "metadata": {
    "collapsed": false
   },
   "outputs": [
    {
     "data": {
      "text/plain": [
       "array(['0-10', '100-200', '10-50', '50-100', '>200'], dtype=object)"
      ]
     },
     "execution_count": 101,
     "metadata": {},
     "output_type": "execute_result"
    }
   ],
   "source": [
    "df['unitcat'].unique()"
   ]
  },
  {
   "cell_type": "code",
   "execution_count": 102,
   "metadata": {
    "collapsed": false
   },
   "outputs": [
    {
     "data": {
      "image/png": "[encoded data removed]",
      "text/plain": [
       "<matplotlib.figure.Figure at 0x10f5925f8>"
      ]
     },
     "metadata": {},
     "output_type": "display_data"
    }
   ],
   "source": [
    "plt.figure(1, figsize=(8,6), )\n",
    "plt.suptitle('SF Housing Development Times', fontsize=20)\n",
    "plt.ylabel('Median Review Time (Days)', fontsize=18)\n",
    "plt.xlabel('Unit Category', fontsize=18)\n",
    "plt.bar(y_pos, cat_medians, align='center', alpha=0.5)\n",
    "plt.xticks(y_pos, categories)\n",
    "plt.show()"
   ]
  },
  {
   "cell_type": "code",
   "execution_count": 24,
   "metadata": {
    "collapsed": false
   },
   "outputs": [
    {
     "data": {
      "image/png": "[encoded data removed]",
      "text/plain": [
       "<matplotlib.figure.Figure at 0x10e47ac88>"
      ]
     },
     "metadata": {},
     "output_type": "display_data"
    }
   ],
   "source": [
    "plt.figure(1, figsize=(10,10))\n",
    "plt.scatter(df['units'], df['project_duration_days'], s=100)\n",
    "plt.suptitle('SF Housing Development Times', fontsize=20)\n",
    "plt.ylabel('Review Time (Days)', fontsize = 20)\n",
    "plt.xlabel('Number of Units Added', fontsize = 20)\n",
    "plt.savefig('../../../scatter.png')"
   ]
  },
  {
   "cell_type": "code",
   "execution_count": 25,
   "metadata": {
    "collapsed": false
   },
   "outputs": [
    {
     "data": {
      "text/html": [
       "<div>\n",
       "<table border=\"1\" class=\"dataframe\">\n",
       "  <thead>\n",
       "    <tr style=\"text-align: right;\">\n",
       "      <th></th>\n",
       "      <th>Unnamed: 0</th>\n",
       "      <th>BP_date</th>\n",
       "      <th>address</th>\n",
       "      <th>apn</th>\n",
       "      <th>best_date</th>\n",
       "      <th>best_stat</th>\n",
       "      <th>comp_date</th>\n",
       "      <th>con_date</th>\n",
       "      <th>dbi_permit</th>\n",
       "      <th>first_date</th>\n",
       "      <th>first_project_record_date</th>\n",
       "      <th>firstfiled</th>\n",
       "      <th>latest_project_record_date</th>\n",
       "      <th>latest_project_status</th>\n",
       "      <th>project_dates</th>\n",
       "      <th>project_duration_days</th>\n",
       "      <th>project_statuses</th>\n",
       "      <th>report_quarter</th>\n",
       "      <th>report_year</th>\n",
       "      <th>status</th>\n",
       "      <th>units</th>\n",
       "      <th>unitsnet</th>\n",
       "      <th>x</th>\n",
       "      <th>y</th>\n",
       "      <th>project_time_years</th>\n",
       "      <th>unitcat</th>\n",
       "    </tr>\n",
       "  </thead>\n",
       "  <tbody>\n",
       "    <tr>\n",
       "      <th>2356</th>\n",
       "      <td>18560</td>\n",
       "      <td>NaN</td>\n",
       "      <td>833-881 JAMESTOWN</td>\n",
       "      <td>4991277</td>\n",
       "      <td>2007-09-17</td>\n",
       "      <td>CONSTRUCTION</td>\n",
       "      <td>04/01/2015</td>\n",
       "      <td>2007-09-17</td>\n",
       "      <td>9924080S</td>\n",
       "      <td>1991-02-19</td>\n",
       "      <td>2007-09-17</td>\n",
       "      <td>1991-02-19</td>\n",
       "      <td>2007-09-17</td>\n",
       "      <td>CONSTRUCTION</td>\n",
       "      <td>('2007-09-17', '2007-09-17', '2007-09-17', '20...</td>\n",
       "      <td>8807.0</td>\n",
       "      <td>('CONSTRUCTION', 'CONSTRUCTION', 'CONSTRUCTION...</td>\n",
       "      <td>1</td>\n",
       "      <td>2015</td>\n",
       "      <td>Under Construction</td>\n",
       "      <td>132.0</td>\n",
       "      <td>14.0</td>\n",
       "      <td>-122.392222</td>\n",
       "      <td>37.717174</td>\n",
       "      <td>24.128767</td>\n",
       "      <td>100-200</td>\n",
       "    </tr>\n",
       "    <tr>\n",
       "      <th>843</th>\n",
       "      <td>26437</td>\n",
       "      <td>NaN</td>\n",
       "      <td>POTRERO1010 (BLDG 1 OF 2)</td>\n",
       "      <td>3833001</td>\n",
       "      <td>2016-05-26</td>\n",
       "      <td>CONSTRUCTION</td>\n",
       "      <td>10/01/2016</td>\n",
       "      <td>2016-05-26</td>\n",
       "      <td>201112070227</td>\n",
       "      <td>2000-05-18</td>\n",
       "      <td>2016-05-26</td>\n",
       "      <td>2000-05-18</td>\n",
       "      <td>2016-05-26</td>\n",
       "      <td>CONSTRUCTION</td>\n",
       "      <td>('2016-05-26', '2016-05-26')</td>\n",
       "      <td>5980.0</td>\n",
       "      <td>('CONSTRUCTION', 'CONSTRUCTION')</td>\n",
       "      <td>3</td>\n",
       "      <td>2016</td>\n",
       "      <td>Under Construction</td>\n",
       "      <td>65.0</td>\n",
       "      <td>65.0</td>\n",
       "      <td>-122.396595</td>\n",
       "      <td>37.767108</td>\n",
       "      <td>16.383562</td>\n",
       "      <td>50-100</td>\n",
       "    </tr>\n",
       "    <tr>\n",
       "      <th>2748</th>\n",
       "      <td>17247</td>\n",
       "      <td>2008-11-07</td>\n",
       "      <td>1179 TENNESSEE ST</td>\n",
       "      <td>4172053</td>\n",
       "      <td>2014-12-18</td>\n",
       "      <td>CONSTRUCTION</td>\n",
       "      <td>01/01/2015</td>\n",
       "      <td>2014-03-21</td>\n",
       "      <td>9902819.0</td>\n",
       "      <td>1999-02-11</td>\n",
       "      <td>2008-11-07</td>\n",
       "      <td>1999-02-11</td>\n",
       "      <td>2014-12-18</td>\n",
       "      <td>CONSTRUCTION</td>\n",
       "      <td>('2008-11-07', '2009-11-03', '2009-11-03', '20...</td>\n",
       "      <td>5803.0</td>\n",
       "      <td>('BP REINSTATED', 'BP REINSTATED', 'BP REINSTA...</td>\n",
       "      <td>4</td>\n",
       "      <td>2014</td>\n",
       "      <td>Under Construction</td>\n",
       "      <td>8.0</td>\n",
       "      <td>8.0</td>\n",
       "      <td>-122.389058</td>\n",
       "      <td>37.755993</td>\n",
       "      <td>15.898630</td>\n",
       "      <td>0-10</td>\n",
       "    </tr>\n",
       "    <tr>\n",
       "      <th>2856</th>\n",
       "      <td>21263</td>\n",
       "      <td>2012-09-07</td>\n",
       "      <td>1000 16TH ST</td>\n",
       "      <td>3833001</td>\n",
       "      <td>2015-12-24</td>\n",
       "      <td>CONSTRUCTION</td>\n",
       "      <td>01/01/2016</td>\n",
       "      <td>2012-09-07</td>\n",
       "      <td>201112070227.0</td>\n",
       "      <td>2000-05-18</td>\n",
       "      <td>2012-07-13</td>\n",
       "      <td>2000-05-18</td>\n",
       "      <td>2015-12-24</td>\n",
       "      <td>CONSTRUCTION</td>\n",
       "      <td>('2012-07-13', '2012-07-13', '2012-07-13', '20...</td>\n",
       "      <td>5706.0</td>\n",
       "      <td>('PL APPROVED', 'PL APPROVED', 'PL APPROVED', ...</td>\n",
       "      <td>4</td>\n",
       "      <td>2015</td>\n",
       "      <td>Under Construction</td>\n",
       "      <td>470.0</td>\n",
       "      <td>470.0</td>\n",
       "      <td>-122.396595</td>\n",
       "      <td>37.767108</td>\n",
       "      <td>15.632877</td>\n",
       "      <td>&gt;200</td>\n",
       "    </tr>\n",
       "    <tr>\n",
       "      <th>2073</th>\n",
       "      <td>24780</td>\n",
       "      <td>2014-02-12</td>\n",
       "      <td>480 POTRERO AV</td>\n",
       "      <td>3973002C</td>\n",
       "      <td>2016-01-13</td>\n",
       "      <td>CONSTRUCTION</td>\n",
       "      <td>07/01/2016</td>\n",
       "      <td>2015-03-26</td>\n",
       "      <td>201306250465</td>\n",
       "      <td>2002-03-22</td>\n",
       "      <td>2004-08-17</td>\n",
       "      <td>2002-03-22</td>\n",
       "      <td>2016-01-13</td>\n",
       "      <td>CONSTRUCTION</td>\n",
       "      <td>('2004-08-17', '2012-10-04', '2012-10-04', '20...</td>\n",
       "      <td>5215.0</td>\n",
       "      <td>('BP ISSUED', 'PL FILED', 'PL FILED', 'BP FILE...</td>\n",
       "      <td>2</td>\n",
       "      <td>2016</td>\n",
       "      <td>Under Construction</td>\n",
       "      <td>77.0</td>\n",
       "      <td>77.0</td>\n",
       "      <td>-122.407671</td>\n",
       "      <td>37.763478</td>\n",
       "      <td>14.287671</td>\n",
       "      <td>50-100</td>\n",
       "    </tr>\n",
       "  </tbody>\n",
       "</table>\n",
       "</div>"
      ],
      "text/plain": [
       "      Unnamed: 0     BP_date                    address       apn   best_date  \\\n",
       "2356       18560         NaN          833-881 JAMESTOWN   4991277  2007-09-17   \n",
       "843        26437         NaN  POTRERO1010 (BLDG 1 OF 2)   3833001  2016-05-26   \n",
       "2748       17247  2008-11-07          1179 TENNESSEE ST   4172053  2014-12-18   \n",
       "2856       21263  2012-09-07               1000 16TH ST   3833001  2015-12-24   \n",
       "2073       24780  2014-02-12             480 POTRERO AV  3973002C  2016-01-13   \n",
       "\n",
       "         best_stat   comp_date    con_date      dbi_permit  first_date  \\\n",
       "2356  CONSTRUCTION  04/01/2015  2007-09-17        9924080S  1991-02-19   \n",
       "843   CONSTRUCTION  10/01/2016  2016-05-26    201112070227  2000-05-18   \n",
       "2748  CONSTRUCTION  01/01/2015  2014-03-21       9902819.0  1999-02-11   \n",
       "2856  CONSTRUCTION  01/01/2016  2012-09-07  201112070227.0  2000-05-18   \n",
       "2073  CONSTRUCTION  07/01/2016  2015-03-26    201306250465  2002-03-22   \n",
       "\n",
       "     first_project_record_date  firstfiled latest_project_record_date  \\\n",
       "2356                2007-09-17  1991-02-19                 2007-09-17   \n",
       "843                 2016-05-26  2000-05-18                 2016-05-26   \n",
       "2748                2008-11-07  1999-02-11                 2014-12-18   \n",
       "2856                2012-07-13  2000-05-18                 2015-12-24   \n",
       "2073                2004-08-17  2002-03-22                 2016-01-13   \n",
       "\n",
       "     latest_project_status                                      project_dates  \\\n",
       "2356          CONSTRUCTION  ('2007-09-17', '2007-09-17', '2007-09-17', '20...   \n",
       "843           CONSTRUCTION                       ('2016-05-26', '2016-05-26')   \n",
       "2748          CONSTRUCTION  ('2008-11-07', '2009-11-03', '2009-11-03', '20...   \n",
       "2856          CONSTRUCTION  ('2012-07-13', '2012-07-13', '2012-07-13', '20...   \n",
       "2073          CONSTRUCTION  ('2004-08-17', '2012-10-04', '2012-10-04', '20...   \n",
       "\n",
       "      project_duration_days  \\\n",
       "2356                 8807.0   \n",
       "843                  5980.0   \n",
       "2748                 5803.0   \n",
       "2856                 5706.0   \n",
       "2073                 5215.0   \n",
       "\n",
       "                                       project_statuses  report_quarter  \\\n",
       "2356  ('CONSTRUCTION', 'CONSTRUCTION', 'CONSTRUCTION...               1   \n",
       "843                    ('CONSTRUCTION', 'CONSTRUCTION')               3   \n",
       "2748  ('BP REINSTATED', 'BP REINSTATED', 'BP REINSTA...               4   \n",
       "2856  ('PL APPROVED', 'PL APPROVED', 'PL APPROVED', ...               4   \n",
       "2073  ('BP ISSUED', 'PL FILED', 'PL FILED', 'BP FILE...               2   \n",
       "\n",
       "      report_year              status  units  unitsnet           x          y  \\\n",
       "2356         2015  Under Construction  132.0      14.0 -122.392222  37.717174   \n",
       "843          2016  Under Construction   65.0      65.0 -122.396595  37.767108   \n",
       "2748         2014  Under Construction    8.0       8.0 -122.389058  37.755993   \n",
       "2856         2015  Under Construction  470.0     470.0 -122.396595  37.767108   \n",
       "2073         2016  Under Construction   77.0      77.0 -122.407671  37.763478   \n",
       "\n",
       "      project_time_years  unitcat  \n",
       "2356           24.128767  100-200  \n",
       "843            16.383562   50-100  \n",
       "2748           15.898630     0-10  \n",
       "2856           15.632877     >200  \n",
       "2073           14.287671   50-100  "
      ]
     },
     "execution_count": 25,
     "metadata": {},
     "output_type": "execute_result"
    }
   ],
   "source": [
    "# Top 5 longest projects\n",
    "df.sort_values('project_time_years', ascending = False)[0:5]"
   ]
  },
  {
   "cell_type": "code",
   "execution_count": 26,
   "metadata": {
    "collapsed": false
   },
   "outputs": [
    {
     "data": {
      "text/html": [
       "<div>\n",
       "<table border=\"1\" class=\"dataframe\">\n",
       "  <thead>\n",
       "    <tr style=\"text-align: right;\">\n",
       "      <th></th>\n",
       "      <th>Unnamed: 0</th>\n",
       "      <th>BP_date</th>\n",
       "      <th>address</th>\n",
       "      <th>apn</th>\n",
       "      <th>best_date</th>\n",
       "      <th>best_stat</th>\n",
       "      <th>comp_date</th>\n",
       "      <th>con_date</th>\n",
       "      <th>dbi_permit</th>\n",
       "      <th>first_date</th>\n",
       "      <th>first_project_record_date</th>\n",
       "      <th>firstfiled</th>\n",
       "      <th>latest_project_record_date</th>\n",
       "      <th>latest_project_status</th>\n",
       "      <th>project_dates</th>\n",
       "      <th>project_duration_days</th>\n",
       "      <th>project_statuses</th>\n",
       "      <th>report_quarter</th>\n",
       "      <th>report_year</th>\n",
       "      <th>status</th>\n",
       "      <th>units</th>\n",
       "      <th>unitsnet</th>\n",
       "      <th>x</th>\n",
       "      <th>y</th>\n",
       "      <th>project_time_years</th>\n",
       "      <th>unitcat</th>\n",
       "    </tr>\n",
       "  </thead>\n",
       "  <tbody>\n",
       "    <tr>\n",
       "      <th>2794</th>\n",
       "      <td>2346</td>\n",
       "      <td>NaN</td>\n",
       "      <td>850 30TH AV</td>\n",
       "      <td>1672024</td>\n",
       "      <td>2010-02-24</td>\n",
       "      <td>CONSTRUCTION</td>\n",
       "      <td>04/01/2010</td>\n",
       "      <td>2010-02-24</td>\n",
       "      <td>200910269851</td>\n",
       "      <td>2009-10-26</td>\n",
       "      <td>2009-10-26</td>\n",
       "      <td>2009-10-26</td>\n",
       "      <td>2010-02-24</td>\n",
       "      <td>CONSTRUCTION</td>\n",
       "      <td>('2009-10-26', '2010-02-24')</td>\n",
       "      <td>157.0</td>\n",
       "      <td>('BP FILED', 'CONSTRUCTION')</td>\n",
       "      <td>1</td>\n",
       "      <td>2010</td>\n",
       "      <td>Under Construction</td>\n",
       "      <td>2.0</td>\n",
       "      <td>NaN</td>\n",
       "      <td>-122.489282</td>\n",
       "      <td>37.773244</td>\n",
       "      <td>0.430137</td>\n",
       "      <td>0-10</td>\n",
       "    </tr>\n",
       "    <tr>\n",
       "      <th>2939</th>\n",
       "      <td>21046</td>\n",
       "      <td>NaN</td>\n",
       "      <td>414 SOMERSET ST</td>\n",
       "      <td>6044003</td>\n",
       "      <td>2015-10-05</td>\n",
       "      <td>CONSTRUCTION</td>\n",
       "      <td>10/01/2015</td>\n",
       "      <td>2015-10-05</td>\n",
       "      <td>201504103396.0</td>\n",
       "      <td>2015-04-10</td>\n",
       "      <td>2015-04-10</td>\n",
       "      <td>2015-04-10</td>\n",
       "      <td>2015-10-05</td>\n",
       "      <td>CONSTRUCTION</td>\n",
       "      <td>('2015-04-10', '2015-10-05')</td>\n",
       "      <td>174.0</td>\n",
       "      <td>('BP FILED', 'CONSTRUCTION')</td>\n",
       "      <td>3</td>\n",
       "      <td>2015</td>\n",
       "      <td>Under Construction</td>\n",
       "      <td>2.0</td>\n",
       "      <td>1.0</td>\n",
       "      <td>-122.407649</td>\n",
       "      <td>37.726252</td>\n",
       "      <td>0.476712</td>\n",
       "      <td>0-10</td>\n",
       "    </tr>\n",
       "    <tr>\n",
       "      <th>2272</th>\n",
       "      <td>10897</td>\n",
       "      <td>2012-10-26</td>\n",
       "      <td>55 05TH ST</td>\n",
       "      <td>3705039</td>\n",
       "      <td>2012-12-12</td>\n",
       "      <td>CONSTRUCTION</td>\n",
       "      <td>01/01/2013</td>\n",
       "      <td>2012-12-12</td>\n",
       "      <td>201206202986</td>\n",
       "      <td>2012-06-20</td>\n",
       "      <td>2012-06-20</td>\n",
       "      <td>2012-06-20 00:00:00</td>\n",
       "      <td>2012-12-12</td>\n",
       "      <td>CONSTRUCTION</td>\n",
       "      <td>('2012-06-20', '2012-10-26', '2012-12-12')</td>\n",
       "      <td>195.0</td>\n",
       "      <td>('BP FILED', 'BP APPROVED', 'CONSTRUCTION')</td>\n",
       "      <td>4</td>\n",
       "      <td>2012</td>\n",
       "      <td>Under Construction</td>\n",
       "      <td>116.0</td>\n",
       "      <td>8.0</td>\n",
       "      <td>-122.407185</td>\n",
       "      <td>37.783461</td>\n",
       "      <td>0.534247</td>\n",
       "      <td>100-200</td>\n",
       "    </tr>\n",
       "    <tr>\n",
       "      <th>3164</th>\n",
       "      <td>10900</td>\n",
       "      <td>2012-10-23</td>\n",
       "      <td>28 PRECITA AV</td>\n",
       "      <td>5518023</td>\n",
       "      <td>2012-11-15</td>\n",
       "      <td>CONSTRUCTION</td>\n",
       "      <td>01/01/2013</td>\n",
       "      <td>2012-11-15</td>\n",
       "      <td>201206203050</td>\n",
       "      <td>2012-06-20</td>\n",
       "      <td>2012-06-20</td>\n",
       "      <td>2012-06-20 00:00:00</td>\n",
       "      <td>2012-11-15</td>\n",
       "      <td>CONSTRUCTION</td>\n",
       "      <td>('2012-06-20', '2012-10-23', '2012-11-15')</td>\n",
       "      <td>195.0</td>\n",
       "      <td>('BP FILED', 'BP ISSUED', 'CONSTRUCTION')</td>\n",
       "      <td>4</td>\n",
       "      <td>2012</td>\n",
       "      <td>Under Construction</td>\n",
       "      <td>2.0</td>\n",
       "      <td>1.0</td>\n",
       "      <td>-122.418489</td>\n",
       "      <td>37.746472</td>\n",
       "      <td>0.534247</td>\n",
       "      <td>0-10</td>\n",
       "    </tr>\n",
       "    <tr>\n",
       "      <th>675</th>\n",
       "      <td>656</td>\n",
       "      <td>NaN</td>\n",
       "      <td>64 14TH ST</td>\n",
       "      <td>3529017</td>\n",
       "      <td>2009-08-07</td>\n",
       "      <td>CONSTRUCTION</td>\n",
       "      <td>10/01/2009</td>\n",
       "      <td>2009-08-07</td>\n",
       "      <td>200903194471</td>\n",
       "      <td>2009-03-19</td>\n",
       "      <td>2009-08-07</td>\n",
       "      <td>2009-03-19</td>\n",
       "      <td>2009-08-07</td>\n",
       "      <td>CONSTRUCTION</td>\n",
       "      <td>('2009-08-07',)</td>\n",
       "      <td>196.0</td>\n",
       "      <td>('CONSTRUCTION',)</td>\n",
       "      <td>3</td>\n",
       "      <td>2009</td>\n",
       "      <td>Under Construction</td>\n",
       "      <td>1.0</td>\n",
       "      <td>-1.0</td>\n",
       "      <td>-122.414942</td>\n",
       "      <td>37.768706</td>\n",
       "      <td>0.536986</td>\n",
       "      <td>0-10</td>\n",
       "    </tr>\n",
       "    <tr>\n",
       "      <th>2798</th>\n",
       "      <td>4588</td>\n",
       "      <td>NaN</td>\n",
       "      <td>290 FARALLONES ST</td>\n",
       "      <td>7105015</td>\n",
       "      <td>2011-01-11</td>\n",
       "      <td>CONSTRUCTION</td>\n",
       "      <td>01/01/2011</td>\n",
       "      <td>2011-01-11</td>\n",
       "      <td>201006033737</td>\n",
       "      <td>2010-06-03</td>\n",
       "      <td>2010-06-03</td>\n",
       "      <td>2010-06-03</td>\n",
       "      <td>2011-01-11</td>\n",
       "      <td>CONSTRUCTION</td>\n",
       "      <td>('2010-06-03', '2010-06-03', '2011-01-11')</td>\n",
       "      <td>212.0</td>\n",
       "      <td>('BP FILED', 'BP FILED', 'CONSTRUCTION')</td>\n",
       "      <td>4</td>\n",
       "      <td>2010</td>\n",
       "      <td>Under Construction</td>\n",
       "      <td>2.0</td>\n",
       "      <td>NaN</td>\n",
       "      <td>-122.462430</td>\n",
       "      <td>37.714286</td>\n",
       "      <td>0.580822</td>\n",
       "      <td>0-10</td>\n",
       "    </tr>\n",
       "    <tr>\n",
       "      <th>3416</th>\n",
       "      <td>29090</td>\n",
       "      <td>NaN</td>\n",
       "      <td>71 CURTIS ST</td>\n",
       "      <td>6464037</td>\n",
       "      <td>2017-03-02</td>\n",
       "      <td>CONSTRUCTION</td>\n",
       "      <td>04/01/2017</td>\n",
       "      <td>2017-03-02</td>\n",
       "      <td>201608266121</td>\n",
       "      <td>2016-08-26</td>\n",
       "      <td>2016-08-26</td>\n",
       "      <td>2016-08-26</td>\n",
       "      <td>2017-03-02</td>\n",
       "      <td>CONSTRUCTION</td>\n",
       "      <td>('2016-08-26', '2016-08-26', '2017-03-02')</td>\n",
       "      <td>218.0</td>\n",
       "      <td>('BP FILED', 'BP FILED', 'CONSTRUCTION')</td>\n",
       "      <td>1</td>\n",
       "      <td>2017</td>\n",
       "      <td>Under Construction</td>\n",
       "      <td>2.0</td>\n",
       "      <td>1.0</td>\n",
       "      <td>-122.439396</td>\n",
       "      <td>37.713630</td>\n",
       "      <td>0.597260</td>\n",
       "      <td>0-10</td>\n",
       "    </tr>\n",
       "    <tr>\n",
       "      <th>188</th>\n",
       "      <td>18801</td>\n",
       "      <td>NaN</td>\n",
       "      <td>352 WALLER ST</td>\n",
       "      <td>0859013</td>\n",
       "      <td>2015-03-06</td>\n",
       "      <td>CONSTRUCTION</td>\n",
       "      <td>04/01/2015</td>\n",
       "      <td>2015-03-06</td>\n",
       "      <td>201408214409.0</td>\n",
       "      <td>2014-08-21</td>\n",
       "      <td>2014-08-21</td>\n",
       "      <td>2014-08-21</td>\n",
       "      <td>2015-03-06</td>\n",
       "      <td>CONSTRUCTION</td>\n",
       "      <td>('2014-08-21', '2015-03-06', '2015-03-06')</td>\n",
       "      <td>223.0</td>\n",
       "      <td>('BP FILED', 'CONSTRUCTION', 'CONSTRUCTION')</td>\n",
       "      <td>1</td>\n",
       "      <td>2015</td>\n",
       "      <td>Under Construction</td>\n",
       "      <td>2.0</td>\n",
       "      <td>1.0</td>\n",
       "      <td>-122.429516</td>\n",
       "      <td>37.771555</td>\n",
       "      <td>0.610959</td>\n",
       "      <td>0-10</td>\n",
       "    </tr>\n",
       "    <tr>\n",
       "      <th>2048</th>\n",
       "      <td>13159</td>\n",
       "      <td>NaN</td>\n",
       "      <td>1022 RHODE ISLAND ST</td>\n",
       "      <td>4158002</td>\n",
       "      <td>2013-08-23</td>\n",
       "      <td>CONSTRUCTION</td>\n",
       "      <td>10/01/2013</td>\n",
       "      <td>2013-06-25</td>\n",
       "      <td>201301248731</td>\n",
       "      <td>2013-01-24</td>\n",
       "      <td>2013-01-24</td>\n",
       "      <td>2013-01-24</td>\n",
       "      <td>2013-08-23</td>\n",
       "      <td>CONSTRUCTION</td>\n",
       "      <td>('2013-01-24', '2013-06-25', '2013-08-23')</td>\n",
       "      <td>250.0</td>\n",
       "      <td>('BP FILED', 'CONSTRUCTION', 'CONSTRUCTION')</td>\n",
       "      <td>3</td>\n",
       "      <td>2013</td>\n",
       "      <td>Under Construction</td>\n",
       "      <td>2.0</td>\n",
       "      <td>1.0</td>\n",
       "      <td>-122.402115</td>\n",
       "      <td>37.756774</td>\n",
       "      <td>0.684932</td>\n",
       "      <td>0-10</td>\n",
       "    </tr>\n",
       "    <tr>\n",
       "      <th>1440</th>\n",
       "      <td>25849</td>\n",
       "      <td>NaN</td>\n",
       "      <td>3378 SACRAMENTO ST</td>\n",
       "      <td>1008047</td>\n",
       "      <td>2016-09-08</td>\n",
       "      <td>CONSTRUCTION</td>\n",
       "      <td>10/01/2016</td>\n",
       "      <td>2016-09-08</td>\n",
       "      <td>201602099198</td>\n",
       "      <td>2016-01-22</td>\n",
       "      <td>2016-02-09</td>\n",
       "      <td>2016-01-22</td>\n",
       "      <td>2016-09-08</td>\n",
       "      <td>CONSTRUCTION</td>\n",
       "      <td>('2016-02-09', '2016-02-09', '2016-09-08')</td>\n",
       "      <td>253.0</td>\n",
       "      <td>('BP FILED', 'BP FILED', 'CONSTRUCTION')</td>\n",
       "      <td>3</td>\n",
       "      <td>2016</td>\n",
       "      <td>Under Construction</td>\n",
       "      <td>4.0</td>\n",
       "      <td>0.0</td>\n",
       "      <td>-122.448412</td>\n",
       "      <td>37.788135</td>\n",
       "      <td>0.693151</td>\n",
       "      <td>0-10</td>\n",
       "    </tr>\n",
       "    <tr>\n",
       "      <th>2457</th>\n",
       "      <td>21629</td>\n",
       "      <td>NaN</td>\n",
       "      <td>545 POST ST</td>\n",
       "      <td>0306022</td>\n",
       "      <td>2016-01-15</td>\n",
       "      <td>CONSTRUCTION</td>\n",
       "      <td>01/01/2016</td>\n",
       "      <td>2016-01-15</td>\n",
       "      <td>201504163818.0</td>\n",
       "      <td>2015-04-16</td>\n",
       "      <td>2016-01-15</td>\n",
       "      <td>2015-04-16</td>\n",
       "      <td>2016-01-15</td>\n",
       "      <td>CONSTRUCTION</td>\n",
       "      <td>('2016-01-15',)</td>\n",
       "      <td>260.0</td>\n",
       "      <td>('CONSTRUCTION',)</td>\n",
       "      <td>4</td>\n",
       "      <td>2015</td>\n",
       "      <td>Under Construction</td>\n",
       "      <td>113.0</td>\n",
       "      <td>4.0</td>\n",
       "      <td>-122.410708</td>\n",
       "      <td>37.787712</td>\n",
       "      <td>0.712329</td>\n",
       "      <td>100-200</td>\n",
       "    </tr>\n",
       "    <tr>\n",
       "      <th>1846</th>\n",
       "      <td>16748</td>\n",
       "      <td>NaN</td>\n",
       "      <td>1596 09TH AV</td>\n",
       "      <td>1854016A</td>\n",
       "      <td>2014-09-26</td>\n",
       "      <td>CONSTRUCTION</td>\n",
       "      <td>10/01/2014</td>\n",
       "      <td>2014-09-26</td>\n",
       "      <td>201312315322.0</td>\n",
       "      <td>2013-12-31</td>\n",
       "      <td>2013-12-31</td>\n",
       "      <td>2013-12-31</td>\n",
       "      <td>2014-09-26</td>\n",
       "      <td>CONSTRUCTION</td>\n",
       "      <td>('2013-12-31', '2013-12-31', '2013-12-31', '20...</td>\n",
       "      <td>274.0</td>\n",
       "      <td>('BP FILED', 'BP FILED', 'BP FILED', 'CONSTRUC...</td>\n",
       "      <td>3</td>\n",
       "      <td>2014</td>\n",
       "      <td>Under Construction</td>\n",
       "      <td>2.0</td>\n",
       "      <td>1.0</td>\n",
       "      <td>-122.465786</td>\n",
       "      <td>37.758367</td>\n",
       "      <td>0.750685</td>\n",
       "      <td>0-10</td>\n",
       "    </tr>\n",
       "    <tr>\n",
       "      <th>1715</th>\n",
       "      <td>20826</td>\n",
       "      <td>2015-05-07</td>\n",
       "      <td>2670 21ST AV</td>\n",
       "      <td>2476034</td>\n",
       "      <td>2015-10-01</td>\n",
       "      <td>CONSTRUCTION</td>\n",
       "      <td>10/01/2015</td>\n",
       "      <td>2015-07-01</td>\n",
       "      <td>201412304734.0</td>\n",
       "      <td>2014-12-30</td>\n",
       "      <td>2014-12-30</td>\n",
       "      <td>2014-12-30</td>\n",
       "      <td>2015-10-01</td>\n",
       "      <td>CONSTRUCTION</td>\n",
       "      <td>('2014-12-30', '2015-05-07', '2015-07-01', '20...</td>\n",
       "      <td>275.0</td>\n",
       "      <td>('BP FILED', 'BP ISSUED', 'CONSTRUCTION', 'CON...</td>\n",
       "      <td>3</td>\n",
       "      <td>2015</td>\n",
       "      <td>Under Construction</td>\n",
       "      <td>2.0</td>\n",
       "      <td>1.0</td>\n",
       "      <td>-122.477155</td>\n",
       "      <td>37.737935</td>\n",
       "      <td>0.753425</td>\n",
       "      <td>0-10</td>\n",
       "    </tr>\n",
       "    <tr>\n",
       "      <th>77</th>\n",
       "      <td>655</td>\n",
       "      <td>NaN</td>\n",
       "      <td>599 NAPLES ST</td>\n",
       "      <td>6090015</td>\n",
       "      <td>2009-08-31</td>\n",
       "      <td>CONSTRUCTION</td>\n",
       "      <td>10/01/2009</td>\n",
       "      <td>2009-08-31</td>\n",
       "      <td>200812309364</td>\n",
       "      <td>2008-12-30</td>\n",
       "      <td>2009-08-31</td>\n",
       "      <td>2008-12-30</td>\n",
       "      <td>2009-08-31</td>\n",
       "      <td>CONSTRUCTION</td>\n",
       "      <td>('2009-08-31',)</td>\n",
       "      <td>275.0</td>\n",
       "      <td>('CONSTRUCTION',)</td>\n",
       "      <td>3</td>\n",
       "      <td>2009</td>\n",
       "      <td>Under Construction</td>\n",
       "      <td>2.0</td>\n",
       "      <td>1.0</td>\n",
       "      <td>-122.432116</td>\n",
       "      <td>37.719408</td>\n",
       "      <td>0.753425</td>\n",
       "      <td>0-10</td>\n",
       "    </tr>\n",
       "    <tr>\n",
       "      <th>2616</th>\n",
       "      <td>27963</td>\n",
       "      <td>2016-09-27</td>\n",
       "      <td>116 VIRGINIA AV</td>\n",
       "      <td>5643035</td>\n",
       "      <td>2016-12-16</td>\n",
       "      <td>CONSTRUCTION</td>\n",
       "      <td>04/01/2017</td>\n",
       "      <td>2016-12-16</td>\n",
       "      <td>201606291163</td>\n",
       "      <td>2016-06-29</td>\n",
       "      <td>2016-06-29</td>\n",
       "      <td>2016-06-29</td>\n",
       "      <td>2016-12-16</td>\n",
       "      <td>CONSTRUCTION</td>\n",
       "      <td>('2016-06-29', '2016-09-27', '2016-12-16', '20...</td>\n",
       "      <td>276.0</td>\n",
       "      <td>('BP FILED', 'BP ISSUED', 'CONSTRUCTION', 'CON...</td>\n",
       "      <td>1</td>\n",
       "      <td>2017</td>\n",
       "      <td>Under Construction</td>\n",
       "      <td>2.0</td>\n",
       "      <td>1.0</td>\n",
       "      <td>-122.419894</td>\n",
       "      <td>37.742276</td>\n",
       "      <td>0.756164</td>\n",
       "      <td>0-10</td>\n",
       "    </tr>\n",
       "    <tr>\n",
       "      <th>1911</th>\n",
       "      <td>22223</td>\n",
       "      <td>2015-06-22</td>\n",
       "      <td>1160 PRAGUE ST</td>\n",
       "      <td>6484024</td>\n",
       "      <td>2015-10-08</td>\n",
       "      <td>CONSTRUCTION</td>\n",
       "      <td>01/01/2016</td>\n",
       "      <td>2015-10-08</td>\n",
       "      <td>201503302274.0</td>\n",
       "      <td>2015-03-30</td>\n",
       "      <td>2015-03-30</td>\n",
       "      <td>2015-03-30</td>\n",
       "      <td>2015-10-08</td>\n",
       "      <td>CONSTRUCTION</td>\n",
       "      <td>('2015-03-30', '2015-06-22', '2015-10-08', '20...</td>\n",
       "      <td>277.0</td>\n",
       "      <td>('BP FILED', 'BP ISSUED', 'CONSTRUCTION', 'CON...</td>\n",
       "      <td>4</td>\n",
       "      <td>2015</td>\n",
       "      <td>Under Construction</td>\n",
       "      <td>2.0</td>\n",
       "      <td>1.0</td>\n",
       "      <td>-122.439087</td>\n",
       "      <td>37.710271</td>\n",
       "      <td>0.758904</td>\n",
       "      <td>0-10</td>\n",
       "    </tr>\n",
       "    <tr>\n",
       "      <th>3073</th>\n",
       "      <td>26189</td>\n",
       "      <td>2016-06-09</td>\n",
       "      <td>658 ELIZABETH ST</td>\n",
       "      <td>2804017</td>\n",
       "      <td>2016-09-01</td>\n",
       "      <td>CONSTRUCTION</td>\n",
       "      <td>10/01/2016</td>\n",
       "      <td>2016-09-01</td>\n",
       "      <td>201512185544</td>\n",
       "      <td>2015-12-18</td>\n",
       "      <td>2015-12-18</td>\n",
       "      <td>2015-12-18</td>\n",
       "      <td>2016-09-01</td>\n",
       "      <td>CONSTRUCTION</td>\n",
       "      <td>('2015-12-18', '2015-12-18', '2016-06-09', '20...</td>\n",
       "      <td>288.0</td>\n",
       "      <td>('BP FILED', 'BP FILED', 'BP ISSUED', 'CONSTRU...</td>\n",
       "      <td>3</td>\n",
       "      <td>2016</td>\n",
       "      <td>Under Construction</td>\n",
       "      <td>3.0</td>\n",
       "      <td>1.0</td>\n",
       "      <td>-122.435520</td>\n",
       "      <td>37.752258</td>\n",
       "      <td>0.789041</td>\n",
       "      <td>0-10</td>\n",
       "    </tr>\n",
       "    <tr>\n",
       "      <th>697</th>\n",
       "      <td>24366</td>\n",
       "      <td>2016-01-06</td>\n",
       "      <td>2225 BAY ST</td>\n",
       "      <td>0927036</td>\n",
       "      <td>2016-06-14</td>\n",
       "      <td>CONSTRUCTION</td>\n",
       "      <td>07/01/2016</td>\n",
       "      <td>2016-06-14</td>\n",
       "      <td>201509156951.0</td>\n",
       "      <td>2015-09-15</td>\n",
       "      <td>2015-09-15</td>\n",
       "      <td>2015-09-15</td>\n",
       "      <td>2016-06-14</td>\n",
       "      <td>CONSTRUCTION</td>\n",
       "      <td>('2015-09-15', '2016-01-06', '2016-01-06', '20...</td>\n",
       "      <td>290.0</td>\n",
       "      <td>('BP FILED', 'BP ISSUED', 'BP ISSUED', 'CONSTR...</td>\n",
       "      <td>2</td>\n",
       "      <td>2016</td>\n",
       "      <td>Under Construction</td>\n",
       "      <td>2.0</td>\n",
       "      <td>1.0</td>\n",
       "      <td>-122.443682</td>\n",
       "      <td>37.801545</td>\n",
       "      <td>0.794521</td>\n",
       "      <td>0-10</td>\n",
       "    </tr>\n",
       "    <tr>\n",
       "      <th>1306</th>\n",
       "      <td>12325</td>\n",
       "      <td>NaN</td>\n",
       "      <td>1265 BOSWORTH ST</td>\n",
       "      <td>6706053</td>\n",
       "      <td>2013-06-11</td>\n",
       "      <td>CONSTRUCTION</td>\n",
       "      <td>07/01/2013</td>\n",
       "      <td>2013-04-01</td>\n",
       "      <td>201209109358</td>\n",
       "      <td>2012-09-10</td>\n",
       "      <td>2012-09-10</td>\n",
       "      <td>2012-09-10</td>\n",
       "      <td>2013-06-11</td>\n",
       "      <td>CONSTRUCTION</td>\n",
       "      <td>('2012-09-10', '2012-09-10', '2013-04-01', '20...</td>\n",
       "      <td>294.0</td>\n",
       "      <td>('BP FILED', 'BP FILED', 'CONSTRUCTION', 'CONS...</td>\n",
       "      <td>2</td>\n",
       "      <td>2013</td>\n",
       "      <td>Under Construction</td>\n",
       "      <td>1.0</td>\n",
       "      <td>1.0</td>\n",
       "      <td>-122.442027</td>\n",
       "      <td>37.735694</td>\n",
       "      <td>0.805479</td>\n",
       "      <td>0-10</td>\n",
       "    </tr>\n",
       "    <tr>\n",
       "      <th>1546</th>\n",
       "      <td>8552</td>\n",
       "      <td>2012-01-18</td>\n",
       "      <td>3041 BAKER ST</td>\n",
       "      <td>0933004</td>\n",
       "      <td>2012-03-02</td>\n",
       "      <td>CONSTRUCTION</td>\n",
       "      <td>04/01/2012</td>\n",
       "      <td>2012-03-02</td>\n",
       "      <td>201106027330</td>\n",
       "      <td>2011-06-02</td>\n",
       "      <td>2011-06-02</td>\n",
       "      <td>2011-06-02</td>\n",
       "      <td>2012-03-02</td>\n",
       "      <td>CONSTRUCTION</td>\n",
       "      <td>('2011-06-02', '2011-06-02', '2012-01-18', '20...</td>\n",
       "      <td>304.0</td>\n",
       "      <td>('BP FILED', 'BP FILED', 'BP ISSUED', 'CONSTRU...</td>\n",
       "      <td>1</td>\n",
       "      <td>2012</td>\n",
       "      <td>Under Construction</td>\n",
       "      <td>2.0</td>\n",
       "      <td>1.0</td>\n",
       "      <td>-122.446406</td>\n",
       "      <td>37.799157</td>\n",
       "      <td>0.832877</td>\n",
       "      <td>0-10</td>\n",
       "    </tr>\n",
       "  </tbody>\n",
       "</table>\n",
       "</div>"
      ],
      "text/plain": [
       "      Unnamed: 0     BP_date               address       apn   best_date  \\\n",
       "2794        2346         NaN           850 30TH AV   1672024  2010-02-24   \n",
       "2939       21046         NaN       414 SOMERSET ST   6044003  2015-10-05   \n",
       "2272       10897  2012-10-26            55 05TH ST   3705039  2012-12-12   \n",
       "3164       10900  2012-10-23         28 PRECITA AV   5518023  2012-11-15   \n",
       "675          656         NaN            64 14TH ST   3529017  2009-08-07   \n",
       "2798        4588         NaN     290 FARALLONES ST   7105015  2011-01-11   \n",
       "3416       29090         NaN          71 CURTIS ST   6464037  2017-03-02   \n",
       "188        18801         NaN         352 WALLER ST   0859013  2015-03-06   \n",
       "2048       13159         NaN  1022 RHODE ISLAND ST   4158002  2013-08-23   \n",
       "1440       25849         NaN    3378 SACRAMENTO ST   1008047  2016-09-08   \n",
       "2457       21629         NaN           545 POST ST   0306022  2016-01-15   \n",
       "1846       16748         NaN          1596 09TH AV  1854016A  2014-09-26   \n",
       "1715       20826  2015-05-07          2670 21ST AV   2476034  2015-10-01   \n",
       "77           655         NaN         599 NAPLES ST   6090015  2009-08-31   \n",
       "2616       27963  2016-09-27       116 VIRGINIA AV   5643035  2016-12-16   \n",
       "1911       22223  2015-06-22        1160 PRAGUE ST   6484024  2015-10-08   \n",
       "3073       26189  2016-06-09      658 ELIZABETH ST   2804017  2016-09-01   \n",
       "697        24366  2016-01-06           2225 BAY ST   0927036  2016-06-14   \n",
       "1306       12325         NaN      1265 BOSWORTH ST   6706053  2013-06-11   \n",
       "1546        8552  2012-01-18         3041 BAKER ST   0933004  2012-03-02   \n",
       "\n",
       "         best_stat   comp_date    con_date      dbi_permit  first_date  \\\n",
       "2794  CONSTRUCTION  04/01/2010  2010-02-24    200910269851  2009-10-26   \n",
       "2939  CONSTRUCTION  10/01/2015  2015-10-05  201504103396.0  2015-04-10   \n",
       "2272  CONSTRUCTION  01/01/2013  2012-12-12    201206202986  2012-06-20   \n",
       "3164  CONSTRUCTION  01/01/2013  2012-11-15    201206203050  2012-06-20   \n",
       "675   CONSTRUCTION  10/01/2009  2009-08-07    200903194471  2009-03-19   \n",
       "2798  CONSTRUCTION  01/01/2011  2011-01-11    201006033737  2010-06-03   \n",
       "3416  CONSTRUCTION  04/01/2017  2017-03-02    201608266121  2016-08-26   \n",
       "188   CONSTRUCTION  04/01/2015  2015-03-06  201408214409.0  2014-08-21   \n",
       "2048  CONSTRUCTION  10/01/2013  2013-06-25    201301248731  2013-01-24   \n",
       "1440  CONSTRUCTION  10/01/2016  2016-09-08    201602099198  2016-01-22   \n",
       "2457  CONSTRUCTION  01/01/2016  2016-01-15  201504163818.0  2015-04-16   \n",
       "1846  CONSTRUCTION  10/01/2014  2014-09-26  201312315322.0  2013-12-31   \n",
       "1715  CONSTRUCTION  10/01/2015  2015-07-01  201412304734.0  2014-12-30   \n",
       "77    CONSTRUCTION  10/01/2009  2009-08-31    200812309364  2008-12-30   \n",
       "2616  CONSTRUCTION  04/01/2017  2016-12-16    201606291163  2016-06-29   \n",
       "1911  CONSTRUCTION  01/01/2016  2015-10-08  201503302274.0  2015-03-30   \n",
       "3073  CONSTRUCTION  10/01/2016  2016-09-01    201512185544  2015-12-18   \n",
       "697   CONSTRUCTION  07/01/2016  2016-06-14  201509156951.0  2015-09-15   \n",
       "1306  CONSTRUCTION  07/01/2013  2013-04-01    201209109358  2012-09-10   \n",
       "1546  CONSTRUCTION  04/01/2012  2012-03-02    201106027330  2011-06-02   \n",
       "\n",
       "     first_project_record_date           firstfiled  \\\n",
       "2794                2009-10-26           2009-10-26   \n",
       "2939                2015-04-10           2015-04-10   \n",
       "2272                2012-06-20  2012-06-20 00:00:00   \n",
       "3164                2012-06-20  2012-06-20 00:00:00   \n",
       "675                 2009-08-07           2009-03-19   \n",
       "2798                2010-06-03           2010-06-03   \n",
       "3416                2016-08-26           2016-08-26   \n",
       "188                 2014-08-21           2014-08-21   \n",
       "2048                2013-01-24           2013-01-24   \n",
       "1440                2016-02-09           2016-01-22   \n",
       "2457                2016-01-15           2015-04-16   \n",
       "1846                2013-12-31           2013-12-31   \n",
       "1715                2014-12-30           2014-12-30   \n",
       "77                  2009-08-31           2008-12-30   \n",
       "2616                2016-06-29           2016-06-29   \n",
       "1911                2015-03-30           2015-03-30   \n",
       "3073                2015-12-18           2015-12-18   \n",
       "697                 2015-09-15           2015-09-15   \n",
       "1306                2012-09-10           2012-09-10   \n",
       "1546                2011-06-02           2011-06-02   \n",
       "\n",
       "     latest_project_record_date latest_project_status  \\\n",
       "2794                 2010-02-24          CONSTRUCTION   \n",
       "2939                 2015-10-05          CONSTRUCTION   \n",
       "2272                 2012-12-12          CONSTRUCTION   \n",
       "3164                 2012-11-15          CONSTRUCTION   \n",
       "675                  2009-08-07          CONSTRUCTION   \n",
       "2798                 2011-01-11          CONSTRUCTION   \n",
       "3416                 2017-03-02          CONSTRUCTION   \n",
       "188                  2015-03-06          CONSTRUCTION   \n",
       "2048                 2013-08-23          CONSTRUCTION   \n",
       "1440                 2016-09-08          CONSTRUCTION   \n",
       "2457                 2016-01-15          CONSTRUCTION   \n",
       "1846                 2014-09-26          CONSTRUCTION   \n",
       "1715                 2015-10-01          CONSTRUCTION   \n",
       "77                   2009-08-31          CONSTRUCTION   \n",
       "2616                 2016-12-16          CONSTRUCTION   \n",
       "1911                 2015-10-08          CONSTRUCTION   \n",
       "3073                 2016-09-01          CONSTRUCTION   \n",
       "697                  2016-06-14          CONSTRUCTION   \n",
       "1306                 2013-06-11          CONSTRUCTION   \n",
       "1546                 2012-03-02          CONSTRUCTION   \n",
       "\n",
       "                                          project_dates  \\\n",
       "2794                       ('2009-10-26', '2010-02-24')   \n",
       "2939                       ('2015-04-10', '2015-10-05')   \n",
       "2272         ('2012-06-20', '2012-10-26', '2012-12-12')   \n",
       "3164         ('2012-06-20', '2012-10-23', '2012-11-15')   \n",
       "675                                     ('2009-08-07',)   \n",
       "2798         ('2010-06-03', '2010-06-03', '2011-01-11')   \n",
       "3416         ('2016-08-26', '2016-08-26', '2017-03-02')   \n",
       "188          ('2014-08-21', '2015-03-06', '2015-03-06')   \n",
       "2048         ('2013-01-24', '2013-06-25', '2013-08-23')   \n",
       "1440         ('2016-02-09', '2016-02-09', '2016-09-08')   \n",
       "2457                                    ('2016-01-15',)   \n",
       "1846  ('2013-12-31', '2013-12-31', '2013-12-31', '20...   \n",
       "1715  ('2014-12-30', '2015-05-07', '2015-07-01', '20...   \n",
       "77                                      ('2009-08-31',)   \n",
       "2616  ('2016-06-29', '2016-09-27', '2016-12-16', '20...   \n",
       "1911  ('2015-03-30', '2015-06-22', '2015-10-08', '20...   \n",
       "3073  ('2015-12-18', '2015-12-18', '2016-06-09', '20...   \n",
       "697   ('2015-09-15', '2016-01-06', '2016-01-06', '20...   \n",
       "1306  ('2012-09-10', '2012-09-10', '2013-04-01', '20...   \n",
       "1546  ('2011-06-02', '2011-06-02', '2012-01-18', '20...   \n",
       "\n",
       "      project_duration_days  \\\n",
       "2794                  157.0   \n",
       "2939                  174.0   \n",
       "2272                  195.0   \n",
       "3164                  195.0   \n",
       "675                   196.0   \n",
       "2798                  212.0   \n",
       "3416                  218.0   \n",
       "188                   223.0   \n",
       "2048                  250.0   \n",
       "1440                  253.0   \n",
       "2457                  260.0   \n",
       "1846                  274.0   \n",
       "1715                  275.0   \n",
       "77                    275.0   \n",
       "2616                  276.0   \n",
       "1911                  277.0   \n",
       "3073                  288.0   \n",
       "697                   290.0   \n",
       "1306                  294.0   \n",
       "1546                  304.0   \n",
       "\n",
       "                                       project_statuses  report_quarter  \\\n",
       "2794                       ('BP FILED', 'CONSTRUCTION')               1   \n",
       "2939                       ('BP FILED', 'CONSTRUCTION')               3   \n",
       "2272        ('BP FILED', 'BP APPROVED', 'CONSTRUCTION')               4   \n",
       "3164          ('BP FILED', 'BP ISSUED', 'CONSTRUCTION')               4   \n",
       "675                                   ('CONSTRUCTION',)               3   \n",
       "2798           ('BP FILED', 'BP FILED', 'CONSTRUCTION')               4   \n",
       "3416           ('BP FILED', 'BP FILED', 'CONSTRUCTION')               1   \n",
       "188        ('BP FILED', 'CONSTRUCTION', 'CONSTRUCTION')               1   \n",
       "2048       ('BP FILED', 'CONSTRUCTION', 'CONSTRUCTION')               3   \n",
       "1440           ('BP FILED', 'BP FILED', 'CONSTRUCTION')               3   \n",
       "2457                                  ('CONSTRUCTION',)               4   \n",
       "1846  ('BP FILED', 'BP FILED', 'BP FILED', 'CONSTRUC...               3   \n",
       "1715  ('BP FILED', 'BP ISSUED', 'CONSTRUCTION', 'CON...               3   \n",
       "77                                    ('CONSTRUCTION',)               3   \n",
       "2616  ('BP FILED', 'BP ISSUED', 'CONSTRUCTION', 'CON...               1   \n",
       "1911  ('BP FILED', 'BP ISSUED', 'CONSTRUCTION', 'CON...               4   \n",
       "3073  ('BP FILED', 'BP FILED', 'BP ISSUED', 'CONSTRU...               3   \n",
       "697   ('BP FILED', 'BP ISSUED', 'BP ISSUED', 'CONSTR...               2   \n",
       "1306  ('BP FILED', 'BP FILED', 'CONSTRUCTION', 'CONS...               2   \n",
       "1546  ('BP FILED', 'BP FILED', 'BP ISSUED', 'CONSTRU...               1   \n",
       "\n",
       "      report_year              status  units  unitsnet           x          y  \\\n",
       "2794         2010  Under Construction    2.0       NaN -122.489282  37.773244   \n",
       "2939         2015  Under Construction    2.0       1.0 -122.407649  37.726252   \n",
       "2272         2012  Under Construction  116.0       8.0 -122.407185  37.783461   \n",
       "3164         2012  Under Construction    2.0       1.0 -122.418489  37.746472   \n",
       "675          2009  Under Construction    1.0      -1.0 -122.414942  37.768706   \n",
       "2798         2010  Under Construction    2.0       NaN -122.462430  37.714286   \n",
       "3416         2017  Under Construction    2.0       1.0 -122.439396  37.713630   \n",
       "188          2015  Under Construction    2.0       1.0 -122.429516  37.771555   \n",
       "2048         2013  Under Construction    2.0       1.0 -122.402115  37.756774   \n",
       "1440         2016  Under Construction    4.0       0.0 -122.448412  37.788135   \n",
       "2457         2015  Under Construction  113.0       4.0 -122.410708  37.787712   \n",
       "1846         2014  Under Construction    2.0       1.0 -122.465786  37.758367   \n",
       "1715         2015  Under Construction    2.0       1.0 -122.477155  37.737935   \n",
       "77           2009  Under Construction    2.0       1.0 -122.432116  37.719408   \n",
       "2616         2017  Under Construction    2.0       1.0 -122.419894  37.742276   \n",
       "1911         2015  Under Construction    2.0       1.0 -122.439087  37.710271   \n",
       "3073         2016  Under Construction    3.0       1.0 -122.435520  37.752258   \n",
       "697          2016  Under Construction    2.0       1.0 -122.443682  37.801545   \n",
       "1306         2013  Under Construction    1.0       1.0 -122.442027  37.735694   \n",
       "1546         2012  Under Construction    2.0       1.0 -122.446406  37.799157   \n",
       "\n",
       "      project_time_years  unitcat  \n",
       "2794            0.430137     0-10  \n",
       "2939            0.476712     0-10  \n",
       "2272            0.534247  100-200  \n",
       "3164            0.534247     0-10  \n",
       "675             0.536986     0-10  \n",
       "2798            0.580822     0-10  \n",
       "3416            0.597260     0-10  \n",
       "188             0.610959     0-10  \n",
       "2048            0.684932     0-10  \n",
       "1440            0.693151     0-10  \n",
       "2457            0.712329  100-200  \n",
       "1846            0.750685     0-10  \n",
       "1715            0.753425     0-10  \n",
       "77              0.753425     0-10  \n",
       "2616            0.756164     0-10  \n",
       "1911            0.758904     0-10  \n",
       "3073            0.789041     0-10  \n",
       "697             0.794521     0-10  \n",
       "1306            0.805479     0-10  \n",
       "1546            0.832877     0-10  "
      ]
     },
     "execution_count": 26,
     "metadata": {},
     "output_type": "execute_result"
    }
   ],
   "source": [
    "# Top 5 longest projects\n",
    "df.sort_values('project_time_years', ascending = True)[0:20]"
   ]
  },
  {
   "cell_type": "markdown",
   "metadata": {},
   "source": [
    "# Breakdown by place. Possibly by average time per unit"
   ]
  },
  {
   "cell_type": "code",
   "execution_count": 43,
   "metadata": {
    "collapsed": false
   },
   "outputs": [],
   "source": [
    "#first, convert points to geodataframe\n",
    "crs = {'init' :'epsg:4326'}\n",
    "geometry = [Point(xy) for xy in zip(df.x, df.y)]\n",
    "devs = GeoDataFrame(df, crs=crs, geometry=geometry)\n",
    "devs = devs.to_crs({'init': 'epsg:4326'}) "
   ]
  },
  {
   "cell_type": "code",
   "execution_count": 44,
   "metadata": {
    "collapsed": false
   },
   "outputs": [
    {
     "data": {
      "text/plain": [
       "(872, 27)"
      ]
     },
     "execution_count": 44,
     "metadata": {},
     "output_type": "execute_result"
    }
   ],
   "source": [
    "devs.shape"
   ]
  },
  {
   "cell_type": "code",
   "execution_count": 45,
   "metadata": {
    "collapsed": true
   },
   "outputs": [],
   "source": [
    "#import neighborhoods\n",
    "neighborhoods = gpd.read_file('../../../data/gis/41_neighborhoods/41_neighborhoods.shp')"
   ]
  },
  {
   "cell_type": "code",
   "execution_count": 46,
   "metadata": {
    "collapsed": true
   },
   "outputs": [],
   "source": [
    "#convert boundaries to geographic coordinate system to conform to points\n",
    "neighborhoods = neighborhoods.to_crs({'init': 'epsg:4326'}) "
   ]
  },
  {
   "cell_type": "code",
   "execution_count": 47,
   "metadata": {
    "collapsed": false
   },
   "outputs": [
    {
     "data": {
      "text/plain": [
       "(41, 2)"
      ]
     },
     "execution_count": 47,
     "metadata": {},
     "output_type": "execute_result"
    }
   ],
   "source": [
    "neighborhoods.shape"
   ]
  },
  {
   "cell_type": "code",
   "execution_count": 49,
   "metadata": {
    "collapsed": false
   },
   "outputs": [
    {
     "data": {
      "text/plain": [
       "(872, 29)"
      ]
     },
     "execution_count": 49,
     "metadata": {},
     "output_type": "execute_result"
    }
   ],
   "source": [
    "#First, spatial join between points and neighborhood boundaries. Set 'how' to 'left' to preserve all developments\n",
    "df_nb = gpd.sjoin(devs, neighborhoods, how = 'inner', op='within')\n",
    "df_nb.shape"
   ]
  },
  {
   "cell_type": "code",
   "execution_count": 51,
   "metadata": {
    "collapsed": false
   },
   "outputs": [
    {
     "data": {
      "text/html": [
       "<div>\n",
       "<table border=\"1\" class=\"dataframe\">\n",
       "  <thead>\n",
       "    <tr style=\"text-align: right;\">\n",
       "      <th></th>\n",
       "      <th>Unnamed: 0</th>\n",
       "      <th>BP_date</th>\n",
       "      <th>address</th>\n",
       "      <th>apn</th>\n",
       "      <th>best_date</th>\n",
       "      <th>best_stat</th>\n",
       "      <th>comp_date</th>\n",
       "      <th>con_date</th>\n",
       "      <th>dbi_permit</th>\n",
       "      <th>first_date</th>\n",
       "      <th>first_project_record_date</th>\n",
       "      <th>firstfiled</th>\n",
       "      <th>latest_project_record_date</th>\n",
       "      <th>latest_project_status</th>\n",
       "      <th>project_dates</th>\n",
       "      <th>project_duration_days</th>\n",
       "      <th>project_statuses</th>\n",
       "      <th>report_quarter</th>\n",
       "      <th>report_year</th>\n",
       "      <th>status</th>\n",
       "      <th>units</th>\n",
       "      <th>unitsnet</th>\n",
       "      <th>x</th>\n",
       "      <th>y</th>\n",
       "      <th>project_time_years</th>\n",
       "      <th>unitcat</th>\n",
       "      <th>geometry</th>\n",
       "      <th>index_right</th>\n",
       "      <th>nhood</th>\n",
       "    </tr>\n",
       "  </thead>\n",
       "  <tbody>\n",
       "    <tr>\n",
       "      <th>2547</th>\n",
       "      <td>11085</td>\n",
       "      <td>2008-12-09</td>\n",
       "      <td>1816 EDDY ST</td>\n",
       "      <td>1127007</td>\n",
       "      <td>2010-10-08</td>\n",
       "      <td>CONSTRUCTION</td>\n",
       "      <td>04/01/2013</td>\n",
       "      <td>2010-10-08</td>\n",
       "      <td>200806275595</td>\n",
       "      <td>2008-06-27</td>\n",
       "      <td>2008-12-09</td>\n",
       "      <td>2008-06-27</td>\n",
       "      <td>2010-10-08</td>\n",
       "      <td>CONSTRUCTION</td>\n",
       "      <td>('2008-12-09', '2008-12-09', '2008-12-09', '20...</td>\n",
       "      <td>1739.0</td>\n",
       "      <td>('BP ISSUED', 'BP ISSUED', 'BP ISSUED', 'BP IS...</td>\n",
       "      <td>1</td>\n",
       "      <td>2013</td>\n",
       "      <td>Under Construction</td>\n",
       "      <td>19.0</td>\n",
       "      <td>19.0</td>\n",
       "      <td>-122.437677</td>\n",
       "      <td>37.780881</td>\n",
       "      <td>4.764384</td>\n",
       "      <td>10-50</td>\n",
       "      <td>POINT (-122.437677 37.780881)</td>\n",
       "      <td>40</td>\n",
       "      <td>Western Addition</td>\n",
       "    </tr>\n",
       "    <tr>\n",
       "      <th>2612</th>\n",
       "      <td>25403</td>\n",
       "      <td>2015-09-16</td>\n",
       "      <td>1594 GOLDEN GATE AV</td>\n",
       "      <td>0753010</td>\n",
       "      <td>2016-04-08</td>\n",
       "      <td>CONSTRUCTION</td>\n",
       "      <td>10/01/2016</td>\n",
       "      <td>2016-03-23</td>\n",
       "      <td>201502249184</td>\n",
       "      <td>2015-02-24</td>\n",
       "      <td>2015-02-24</td>\n",
       "      <td>2015-02-24</td>\n",
       "      <td>2016-04-08</td>\n",
       "      <td>CONSTRUCTION</td>\n",
       "      <td>('2015-02-24', '2015-02-24', '2015-09-16', '20...</td>\n",
       "      <td>585.0</td>\n",
       "      <td>('BP FILED', 'BP FILED', 'BP ISSUED', 'BP ISSU...</td>\n",
       "      <td>3</td>\n",
       "      <td>2016</td>\n",
       "      <td>Under Construction</td>\n",
       "      <td>3.0</td>\n",
       "      <td>1.0</td>\n",
       "      <td>-122.436768</td>\n",
       "      <td>37.779213</td>\n",
       "      <td>1.602740</td>\n",
       "      <td>0-10</td>\n",
       "      <td>POINT (-122.436768343 37.77921261199999)</td>\n",
       "      <td>40</td>\n",
       "      <td>Western Addition</td>\n",
       "    </tr>\n",
       "    <tr>\n",
       "      <th>2760</th>\n",
       "      <td>25343</td>\n",
       "      <td>2013-12-19</td>\n",
       "      <td>1470 MCALLISTER ST</td>\n",
       "      <td>0776035</td>\n",
       "      <td>2016-06-15</td>\n",
       "      <td>CONSTRUCTION</td>\n",
       "      <td>10/01/2016</td>\n",
       "      <td>2015-05-22</td>\n",
       "      <td>201302150317</td>\n",
       "      <td>2013-02-15</td>\n",
       "      <td>2013-02-15</td>\n",
       "      <td>2013-02-15</td>\n",
       "      <td>2016-06-15</td>\n",
       "      <td>CONSTRUCTION</td>\n",
       "      <td>('2013-02-15', '2013-02-15', '2013-02-15', '20...</td>\n",
       "      <td>1324.0</td>\n",
       "      <td>('BP FILED', 'BP FILED', 'BP FILED', 'BP ISSUE...</td>\n",
       "      <td>3</td>\n",
       "      <td>2016</td>\n",
       "      <td>Under Construction</td>\n",
       "      <td>3.0</td>\n",
       "      <td>3.0</td>\n",
       "      <td>-122.436398</td>\n",
       "      <td>37.778276</td>\n",
       "      <td>3.627397</td>\n",
       "      <td>0-10</td>\n",
       "      <td>POINT (-122.436398168 37.7782758913)</td>\n",
       "      <td>40</td>\n",
       "      <td>Western Addition</td>\n",
       "    </tr>\n",
       "    <tr>\n",
       "      <th>3087</th>\n",
       "      <td>10329</td>\n",
       "      <td>2007-08-21</td>\n",
       "      <td>701 GOLDEN GATE AV</td>\n",
       "      <td>0768013</td>\n",
       "      <td>2012-07-25</td>\n",
       "      <td>CONSTRUCTION</td>\n",
       "      <td>01/01/2013</td>\n",
       "      <td>2012-07-10</td>\n",
       "      <td>200610235755</td>\n",
       "      <td>2006-10-23</td>\n",
       "      <td>2007-08-21</td>\n",
       "      <td>2006-10-23</td>\n",
       "      <td>2012-07-25</td>\n",
       "      <td>CONSTRUCTION</td>\n",
       "      <td>('2007-08-21', '2007-08-21', '2007-08-21', '20...</td>\n",
       "      <td>2262.0</td>\n",
       "      <td>('BP ISSUED', 'BP ISSUED', 'BP ISSUED', 'BP IS...</td>\n",
       "      <td>4</td>\n",
       "      <td>2012</td>\n",
       "      <td>Under Construction</td>\n",
       "      <td>100.0</td>\n",
       "      <td>100.0</td>\n",
       "      <td>-122.422252</td>\n",
       "      <td>37.780686</td>\n",
       "      <td>6.197260</td>\n",
       "      <td>100-200</td>\n",
       "      <td>POINT (-122.422252 37.780686)</td>\n",
       "      <td>40</td>\n",
       "      <td>Western Addition</td>\n",
       "    </tr>\n",
       "    <tr>\n",
       "      <th>3299</th>\n",
       "      <td>7881</td>\n",
       "      <td>2010-04-16</td>\n",
       "      <td>1345 TURK ST</td>\n",
       "      <td>0756001</td>\n",
       "      <td>2012-01-25</td>\n",
       "      <td>CONSTRUCTION</td>\n",
       "      <td>01/01/2012</td>\n",
       "      <td>2011-01-13</td>\n",
       "      <td>200911131168</td>\n",
       "      <td>2008-01-23</td>\n",
       "      <td>2008-12-09</td>\n",
       "      <td>2008-01-23</td>\n",
       "      <td>2012-01-25</td>\n",
       "      <td>CONSTRUCTION</td>\n",
       "      <td>('2008-12-09', '2009-11-13', '2010-04-16', '20...</td>\n",
       "      <td>1439.0</td>\n",
       "      <td>('BP ISSUED', 'BP FILED', 'BP ISSUED', 'BP ISS...</td>\n",
       "      <td>4</td>\n",
       "      <td>2011</td>\n",
       "      <td>Under Construction</td>\n",
       "      <td>32.0</td>\n",
       "      <td>32.0</td>\n",
       "      <td>-122.431217</td>\n",
       "      <td>37.780465</td>\n",
       "      <td>3.942466</td>\n",
       "      <td>10-50</td>\n",
       "      <td>POINT (-122.431217 37.780465)</td>\n",
       "      <td>40</td>\n",
       "      <td>Western Addition</td>\n",
       "    </tr>\n",
       "  </tbody>\n",
       "</table>\n",
       "</div>"
      ],
      "text/plain": [
       "      Unnamed: 0     BP_date              address      apn   best_date  \\\n",
       "2547       11085  2008-12-09         1816 EDDY ST  1127007  2010-10-08   \n",
       "2612       25403  2015-09-16  1594 GOLDEN GATE AV  0753010  2016-04-08   \n",
       "2760       25343  2013-12-19   1470 MCALLISTER ST  0776035  2016-06-15   \n",
       "3087       10329  2007-08-21   701 GOLDEN GATE AV  0768013  2012-07-25   \n",
       "3299        7881  2010-04-16         1345 TURK ST  0756001  2012-01-25   \n",
       "\n",
       "         best_stat   comp_date    con_date    dbi_permit  first_date  \\\n",
       "2547  CONSTRUCTION  04/01/2013  2010-10-08  200806275595  2008-06-27   \n",
       "2612  CONSTRUCTION  10/01/2016  2016-03-23  201502249184  2015-02-24   \n",
       "2760  CONSTRUCTION  10/01/2016  2015-05-22  201302150317  2013-02-15   \n",
       "3087  CONSTRUCTION  01/01/2013  2012-07-10  200610235755  2006-10-23   \n",
       "3299  CONSTRUCTION  01/01/2012  2011-01-13  200911131168  2008-01-23   \n",
       "\n",
       "     first_project_record_date  firstfiled latest_project_record_date  \\\n",
       "2547                2008-12-09  2008-06-27                 2010-10-08   \n",
       "2612                2015-02-24  2015-02-24                 2016-04-08   \n",
       "2760                2013-02-15  2013-02-15                 2016-06-15   \n",
       "3087                2007-08-21  2006-10-23                 2012-07-25   \n",
       "3299                2008-12-09  2008-01-23                 2012-01-25   \n",
       "\n",
       "     latest_project_status                                      project_dates  \\\n",
       "2547          CONSTRUCTION  ('2008-12-09', '2008-12-09', '2008-12-09', '20...   \n",
       "2612          CONSTRUCTION  ('2015-02-24', '2015-02-24', '2015-09-16', '20...   \n",
       "2760          CONSTRUCTION  ('2013-02-15', '2013-02-15', '2013-02-15', '20...   \n",
       "3087          CONSTRUCTION  ('2007-08-21', '2007-08-21', '2007-08-21', '20...   \n",
       "3299          CONSTRUCTION  ('2008-12-09', '2009-11-13', '2010-04-16', '20...   \n",
       "\n",
       "      project_duration_days  \\\n",
       "2547                 1739.0   \n",
       "2612                  585.0   \n",
       "2760                 1324.0   \n",
       "3087                 2262.0   \n",
       "3299                 1439.0   \n",
       "\n",
       "                                       project_statuses  report_quarter  \\\n",
       "2547  ('BP ISSUED', 'BP ISSUED', 'BP ISSUED', 'BP IS...               1   \n",
       "2612  ('BP FILED', 'BP FILED', 'BP ISSUED', 'BP ISSU...               3   \n",
       "2760  ('BP FILED', 'BP FILED', 'BP FILED', 'BP ISSUE...               3   \n",
       "3087  ('BP ISSUED', 'BP ISSUED', 'BP ISSUED', 'BP IS...               4   \n",
       "3299  ('BP ISSUED', 'BP FILED', 'BP ISSUED', 'BP ISS...               4   \n",
       "\n",
       "      report_year              status  units  unitsnet           x          y  \\\n",
       "2547         2013  Under Construction   19.0      19.0 -122.437677  37.780881   \n",
       "2612         2016  Under Construction    3.0       1.0 -122.436768  37.779213   \n",
       "2760         2016  Under Construction    3.0       3.0 -122.436398  37.778276   \n",
       "3087         2012  Under Construction  100.0     100.0 -122.422252  37.780686   \n",
       "3299         2011  Under Construction   32.0      32.0 -122.431217  37.780465   \n",
       "\n",
       "      project_time_years  unitcat                                  geometry  \\\n",
       "2547            4.764384    10-50             POINT (-122.437677 37.780881)   \n",
       "2612            1.602740     0-10  POINT (-122.436768343 37.77921261199999)   \n",
       "2760            3.627397     0-10      POINT (-122.436398168 37.7782758913)   \n",
       "3087            6.197260  100-200             POINT (-122.422252 37.780686)   \n",
       "3299            3.942466    10-50             POINT (-122.431217 37.780465)   \n",
       "\n",
       "      index_right             nhood  \n",
       "2547           40  Western Addition  \n",
       "2612           40  Western Addition  \n",
       "2760           40  Western Addition  \n",
       "3087           40  Western Addition  \n",
       "3299           40  Western Addition  "
      ]
     },
     "execution_count": 51,
     "metadata": {},
     "output_type": "execute_result"
    }
   ],
   "source": [
    "df_nb.tail()"
   ]
  },
  {
   "cell_type": "code",
   "execution_count": 52,
   "metadata": {
    "collapsed": false
   },
   "outputs": [],
   "source": [
    "#create unit-year category so that we normalize by units when comparing geographies\n",
    "df_nb['unityears']=df_nb['project_time_years']/df_nb['units']"
   ]
  },
  {
   "cell_type": "code",
   "execution_count": 53,
   "metadata": {
    "collapsed": false
   },
   "outputs": [],
   "source": [
    "cat_medians=[]\n",
    "categories=df_nb['nhood'].unique().tolist()"
   ]
  },
  {
   "cell_type": "code",
   "execution_count": 54,
   "metadata": {
    "collapsed": false
   },
   "outputs": [],
   "source": [
    "categories = sorted(categories, key=lambda x: df_nb[df_nb['nhood']==x]['unityears'].median())"
   ]
  },
  {
   "cell_type": "code",
   "execution_count": 55,
   "metadata": {
    "collapsed": true
   },
   "outputs": [],
   "source": [
    "for cat in categories:\n",
    "    median = df_nb[df_nb['nhood']==cat]['unityears'].median()\n",
    "    cat_medians.append(median)"
   ]
  },
  {
   "cell_type": "code",
   "execution_count": 75,
   "metadata": {
    "collapsed": false
   },
   "outputs": [],
   "source": [
    "y_pos=np.arange(len(categories))\n",
    "#y_pos = np.arange(0, 4*len(categories), 4)"
   ]
  },
  {
   "cell_type": "code",
   "execution_count": 76,
   "metadata": {
    "collapsed": false
   },
   "outputs": [
    {
     "data": {
      "image/png": "[encoded data removed]",
      "text/plain": [
       "<matplotlib.figure.Figure at 0x10f91b550>"
      ]
     },
     "metadata": {},
     "output_type": "display_data"
    }
   ],
   "source": [
    "plt.figure(1, figsize=(9,9))\n",
    "plt.suptitle('SF Housing Development Times', fontsize=20)\n",
    "plt.ylabel('Median Review Time (Unit-Years)', fontsize=20)\n",
    "plt.xlabel('Neighborhood', fontsize=20)\n",
    "plt.bar(y_pos, cat_medians, align='edge', alpha=1, width=0.5)\n",
    "plt.xticks(y_pos, categories, rotation='vertical', fontsize=15)\n",
    "plt.show()"
   ]
  },
  {
   "cell_type": "code",
   "execution_count": null,
   "metadata": {
    "collapsed": false
   },
   "outputs": [],
   "source": [
    "np.arange(len(categories)-len(categories), 2*len(categories), 2)"
   ]
  },
  {
   "cell_type": "code",
   "execution_count": null,
   "metadata": {
    "collapsed": true
   },
   "outputs": [],
   "source": []
  },
  {
   "cell_type": "code",
   "execution_count": null,
   "metadata": {
    "collapsed": true
   },
   "outputs": [],
   "source": []
  },
  {
   "cell_type": "markdown",
   "metadata": {
    "collapsed": true
   },
   "source": [
    "# Breakdown time by stage of process"
   ]
  },
  {
   "cell_type": "code",
   "execution_count": 103,
   "metadata": {
    "collapsed": false
   },
   "outputs": [
    {
     "data": {
      "text/html": [
       "<div>\n",
       "<table border=\"1\" class=\"dataframe\">\n",
       "  <thead>\n",
       "    <tr style=\"text-align: right;\">\n",
       "      <th></th>\n",
       "      <th>Unnamed: 0</th>\n",
       "      <th>BP_date</th>\n",
       "      <th>address</th>\n",
       "      <th>apn</th>\n",
       "      <th>best_date</th>\n",
       "      <th>best_stat</th>\n",
       "      <th>comp_date</th>\n",
       "      <th>con_date</th>\n",
       "      <th>dbi_permit</th>\n",
       "      <th>first_date</th>\n",
       "      <th>first_project_record_date</th>\n",
       "      <th>firstfiled</th>\n",
       "      <th>latest_project_record_date</th>\n",
       "      <th>latest_project_status</th>\n",
       "      <th>project_dates</th>\n",
       "      <th>project_duration_days</th>\n",
       "      <th>project_statuses</th>\n",
       "      <th>report_quarter</th>\n",
       "      <th>report_year</th>\n",
       "      <th>status</th>\n",
       "      <th>units</th>\n",
       "      <th>unitsnet</th>\n",
       "      <th>x</th>\n",
       "      <th>y</th>\n",
       "      <th>project_time_years</th>\n",
       "      <th>unitcat</th>\n",
       "    </tr>\n",
       "  </thead>\n",
       "  <tbody>\n",
       "    <tr>\n",
       "      <th>10</th>\n",
       "      <td>25646</td>\n",
       "      <td>2014-11-05</td>\n",
       "      <td>238 MISSOURI ST</td>\n",
       "      <td>4003006</td>\n",
       "      <td>2016-04-26</td>\n",
       "      <td>CONSTRUCTION</td>\n",
       "      <td>10/01/2016</td>\n",
       "      <td>2015-07-09</td>\n",
       "      <td>201310038371</td>\n",
       "      <td>2013-10-03</td>\n",
       "      <td>2013-10-03</td>\n",
       "      <td>2013-10-03</td>\n",
       "      <td>2016-04-26</td>\n",
       "      <td>CONSTRUCTION</td>\n",
       "      <td>('2013-10-03', '2013-10-03', '2013-10-03', '20...</td>\n",
       "      <td>1094.0</td>\n",
       "      <td>('BP FILED', 'BP FILED', 'BP FILED', 'BP FILED...</td>\n",
       "      <td>3</td>\n",
       "      <td>2016</td>\n",
       "      <td>Under Construction</td>\n",
       "      <td>3.0</td>\n",
       "      <td>1.0</td>\n",
       "      <td>-122.396915</td>\n",
       "      <td>37.763366</td>\n",
       "      <td>2.997260</td>\n",
       "      <td>0-10</td>\n",
       "    </tr>\n",
       "    <tr>\n",
       "      <th>12</th>\n",
       "      <td>29286</td>\n",
       "      <td>NaN</td>\n",
       "      <td>MISSION BAY BLOCK 1 (RESIDENTIAL) 03RD</td>\n",
       "      <td>8715004</td>\n",
       "      <td>2017-03-31</td>\n",
       "      <td>CONSTRUCTION</td>\n",
       "      <td>04/01/2017</td>\n",
       "      <td>2016-07-01</td>\n",
       "      <td>201408133775</td>\n",
       "      <td>2014-08-13</td>\n",
       "      <td>2016-07-01</td>\n",
       "      <td>2014-08-13</td>\n",
       "      <td>2017-03-31</td>\n",
       "      <td>CONSTRUCTION</td>\n",
       "      <td>('2016-07-01', '2016-09-27', '2016-12-14', '20...</td>\n",
       "      <td>962.0</td>\n",
       "      <td>('CONSTRUCTION', 'CONSTRUCTION', 'CONSTRUCTION...</td>\n",
       "      <td>1</td>\n",
       "      <td>2017</td>\n",
       "      <td>Under Construction</td>\n",
       "      <td>198.0</td>\n",
       "      <td>198.0</td>\n",
       "      <td>-122.390643</td>\n",
       "      <td>37.775051</td>\n",
       "      <td>2.635616</td>\n",
       "      <td>100-200</td>\n",
       "    </tr>\n",
       "    <tr>\n",
       "      <th>15</th>\n",
       "      <td>14501</td>\n",
       "      <td>NaN</td>\n",
       "      <td>1080 SUTTER ST</td>\n",
       "      <td>0279011</td>\n",
       "      <td>2014-01-14</td>\n",
       "      <td>CONSTRUCTION</td>\n",
       "      <td>04/01/2014</td>\n",
       "      <td>2013-04-24</td>\n",
       "      <td>200608290880</td>\n",
       "      <td>2006-10-25</td>\n",
       "      <td>2006-10-25</td>\n",
       "      <td>2006-10-25</td>\n",
       "      <td>2014-01-14</td>\n",
       "      <td>CONSTRUCTION</td>\n",
       "      <td>('2006-10-25', '2009-05-28', '2009-05-28', '20...</td>\n",
       "      <td>2715.0</td>\n",
       "      <td>('PL FILED', 'PL APPROVED', 'PL APPROVED', 'PL...</td>\n",
       "      <td>1</td>\n",
       "      <td>2014</td>\n",
       "      <td>Under Construction</td>\n",
       "      <td>35.0</td>\n",
       "      <td>35.0</td>\n",
       "      <td>-122.418041</td>\n",
       "      <td>37.788226</td>\n",
       "      <td>7.438356</td>\n",
       "      <td>10-50</td>\n",
       "    </tr>\n",
       "    <tr>\n",
       "      <th>16</th>\n",
       "      <td>26469</td>\n",
       "      <td>2015-06-26</td>\n",
       "      <td>101 LELAND AV</td>\n",
       "      <td>6250036</td>\n",
       "      <td>2016-01-21</td>\n",
       "      <td>CONSTRUCTION</td>\n",
       "      <td>10/01/2016</td>\n",
       "      <td>2016-01-21</td>\n",
       "      <td>200705221925</td>\n",
       "      <td>2007-05-22</td>\n",
       "      <td>2007-05-22</td>\n",
       "      <td>2007-05-22</td>\n",
       "      <td>2016-01-21</td>\n",
       "      <td>CONSTRUCTION</td>\n",
       "      <td>('2007-05-22', '2007-05-22', '2007-05-22', '20...</td>\n",
       "      <td>3420.0</td>\n",
       "      <td>('BP FILED', 'BP FILED', 'BP FILED', 'BP FILED...</td>\n",
       "      <td>3</td>\n",
       "      <td>2016</td>\n",
       "      <td>Under Construction</td>\n",
       "      <td>4.0</td>\n",
       "      <td>3.0</td>\n",
       "      <td>-122.405831</td>\n",
       "      <td>37.711766</td>\n",
       "      <td>9.369863</td>\n",
       "      <td>0-10</td>\n",
       "    </tr>\n",
       "    <tr>\n",
       "      <th>19</th>\n",
       "      <td>26913</td>\n",
       "      <td>NaN</td>\n",
       "      <td>188 BROAD ST</td>\n",
       "      <td>7107023</td>\n",
       "      <td>2013-07-01</td>\n",
       "      <td>CONSTRUCTION</td>\n",
       "      <td>01/01/2017</td>\n",
       "      <td>2013-03-12</td>\n",
       "      <td>201205039740</td>\n",
       "      <td>2012-05-03</td>\n",
       "      <td>2012-05-03</td>\n",
       "      <td>2012-05-03 00:00:00</td>\n",
       "      <td>2013-07-01</td>\n",
       "      <td>CONSTRUCTION</td>\n",
       "      <td>('2012-05-03', '2012-05-03', '2012-05-03', '20...</td>\n",
       "      <td>1704.0</td>\n",
       "      <td>('BP FILED', 'BP FILED', 'BP FILED', 'CONSTRUC...</td>\n",
       "      <td>4</td>\n",
       "      <td>2016</td>\n",
       "      <td>Under Construction</td>\n",
       "      <td>2.0</td>\n",
       "      <td>1.0</td>\n",
       "      <td>-122.458623</td>\n",
       "      <td>37.713424</td>\n",
       "      <td>4.668493</td>\n",
       "      <td>0-10</td>\n",
       "    </tr>\n",
       "  </tbody>\n",
       "</table>\n",
       "</div>"
      ],
      "text/plain": [
       "    Unnamed: 0     BP_date                                 address      apn  \\\n",
       "10       25646  2014-11-05                         238 MISSOURI ST  4003006   \n",
       "12       29286         NaN  MISSION BAY BLOCK 1 (RESIDENTIAL) 03RD  8715004   \n",
       "15       14501         NaN                          1080 SUTTER ST  0279011   \n",
       "16       26469  2015-06-26                           101 LELAND AV  6250036   \n",
       "19       26913         NaN                            188 BROAD ST  7107023   \n",
       "\n",
       "     best_date     best_stat   comp_date    con_date    dbi_permit  \\\n",
       "10  2016-04-26  CONSTRUCTION  10/01/2016  2015-07-09  201310038371   \n",
       "12  2017-03-31  CONSTRUCTION  04/01/2017  2016-07-01  201408133775   \n",
       "15  2014-01-14  CONSTRUCTION  04/01/2014  2013-04-24  200608290880   \n",
       "16  2016-01-21  CONSTRUCTION  10/01/2016  2016-01-21  200705221925   \n",
       "19  2013-07-01  CONSTRUCTION  01/01/2017  2013-03-12  201205039740   \n",
       "\n",
       "    first_date first_project_record_date           firstfiled  \\\n",
       "10  2013-10-03                2013-10-03           2013-10-03   \n",
       "12  2014-08-13                2016-07-01           2014-08-13   \n",
       "15  2006-10-25                2006-10-25           2006-10-25   \n",
       "16  2007-05-22                2007-05-22           2007-05-22   \n",
       "19  2012-05-03                2012-05-03  2012-05-03 00:00:00   \n",
       "\n",
       "   latest_project_record_date latest_project_status  \\\n",
       "10                 2016-04-26          CONSTRUCTION   \n",
       "12                 2017-03-31          CONSTRUCTION   \n",
       "15                 2014-01-14          CONSTRUCTION   \n",
       "16                 2016-01-21          CONSTRUCTION   \n",
       "19                 2013-07-01          CONSTRUCTION   \n",
       "\n",
       "                                        project_dates  project_duration_days  \\\n",
       "10  ('2013-10-03', '2013-10-03', '2013-10-03', '20...                 1094.0   \n",
       "12  ('2016-07-01', '2016-09-27', '2016-12-14', '20...                  962.0   \n",
       "15  ('2006-10-25', '2009-05-28', '2009-05-28', '20...                 2715.0   \n",
       "16  ('2007-05-22', '2007-05-22', '2007-05-22', '20...                 3420.0   \n",
       "19  ('2012-05-03', '2012-05-03', '2012-05-03', '20...                 1704.0   \n",
       "\n",
       "                                     project_statuses  report_quarter  \\\n",
       "10  ('BP FILED', 'BP FILED', 'BP FILED', 'BP FILED...               3   \n",
       "12  ('CONSTRUCTION', 'CONSTRUCTION', 'CONSTRUCTION...               1   \n",
       "15  ('PL FILED', 'PL APPROVED', 'PL APPROVED', 'PL...               1   \n",
       "16  ('BP FILED', 'BP FILED', 'BP FILED', 'BP FILED...               3   \n",
       "19  ('BP FILED', 'BP FILED', 'BP FILED', 'CONSTRUC...               4   \n",
       "\n",
       "    report_year              status  units  unitsnet           x          y  \\\n",
       "10         2016  Under Construction    3.0       1.0 -122.396915  37.763366   \n",
       "12         2017  Under Construction  198.0     198.0 -122.390643  37.775051   \n",
       "15         2014  Under Construction   35.0      35.0 -122.418041  37.788226   \n",
       "16         2016  Under Construction    4.0       3.0 -122.405831  37.711766   \n",
       "19         2016  Under Construction    2.0       1.0 -122.458623  37.713424   \n",
       "\n",
       "    project_time_years  unitcat  \n",
       "10            2.997260     0-10  \n",
       "12            2.635616  100-200  \n",
       "15            7.438356    10-50  \n",
       "16            9.369863     0-10  \n",
       "19            4.668493     0-10  "
      ]
     },
     "execution_count": 103,
     "metadata": {},
     "output_type": "execute_result"
    }
   ],
   "source": [
    "df.head()"
   ]
  },
  {
   "cell_type": "code",
   "execution_count": 106,
   "metadata": {
    "collapsed": false
   },
   "outputs": [],
   "source": [
    "df = df[pd.notnull(df['BP_date'])]"
   ]
  },
  {
   "cell_type": "code",
   "execution_count": 107,
   "metadata": {
    "collapsed": false
   },
   "outputs": [
    {
     "data": {
      "text/plain": [
       "(600, 26)"
      ]
     },
     "execution_count": 107,
     "metadata": {},
     "output_type": "execute_result"
    }
   ],
   "source": [
    "df.shape"
   ]
  },
  {
   "cell_type": "code",
   "execution_count": 108,
   "metadata": {
    "collapsed": true
   },
   "outputs": [],
   "source": [
    "df = df[pd.notnull(df['con_date'])]"
   ]
  },
  {
   "cell_type": "code",
   "execution_count": 109,
   "metadata": {
    "collapsed": false
   },
   "outputs": [
    {
     "data": {
      "text/plain": [
       "(600, 26)"
      ]
     },
     "execution_count": 109,
     "metadata": {},
     "output_type": "execute_result"
    }
   ],
   "source": [
    "df.shape"
   ]
  },
  {
   "cell_type": "code",
   "execution_count": null,
   "metadata": {
    "collapsed": true
   },
   "outputs": [],
   "source": []
  },
  {
   "cell_type": "code",
   "execution_count": null,
   "metadata": {
    "collapsed": true
   },
   "outputs": [],
   "source": []
  },
  {
   "cell_type": "code",
   "execution_count": null,
   "metadata": {
    "collapsed": true
   },
   "outputs": [],
   "source": [
    "#also do graph by height-bulk restriction? "
   ]
  }
 ],
 "metadata": {
  "anaconda-cloud": {},
  "kernelspec": {
   "display_name": "Python [Root]",
   "language": "python",
   "name": "Python [Root]"
  },
  "language_info": {
   "codemirror_mode": {
    "name": "ipython",
    "version": 3
   },
   "file_extension": ".py",
   "mimetype": "text/x-python",
   "name": "python",
   "nbconvert_exporter": "python",
   "pygments_lexer": "ipython3",
   "version": "3.5.2"
  }
 },
 "nbformat": 4,
 "nbformat_minor": 0
}
