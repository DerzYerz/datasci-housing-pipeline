{
 "cells": [
  {
   "cell_type": "markdown",
   "metadata": {},
   "source": [
    "# Analysis from Brian Goggin (uses newly-produced data as of September 2017)"
   ]
  },
  {
   "cell_type": "code",
   "execution_count": null,
   "metadata": {
    "collapsed": true
   },
   "outputs": [],
   "source": [
    "import pandas as pd\n",
    "import logging\n",
    "import dateutil\n",
    "from dateutil import parser\n",
    "import numpy as np\n",
    "import matplotlib.pyplot as plt\n",
    "import geopandas as gpd\n",
    "from geopandas import GeoDataFrame\n",
    "from shapely.geometry import Point\n",
    "%matplotlib inline\n",
    "pd.set_option('display.max_columns', 500)"
   ]
  },
  {
   "cell_type": "code",
   "execution_count": null,
   "metadata": {
    "collapsed": false
   },
   "outputs": [],
   "source": [
    "#import dataset of project times from \"data\" folder\n",
    "file = \"../../../data/cleaned/all_quarters__one_record_per_project.csv\"\n",
    "df = pd.read_csv(file)"
   ]
  },
  {
   "cell_type": "code",
   "execution_count": null,
   "metadata": {
    "collapsed": true
   },
   "outputs": [],
   "source": [
    "#First, filter out those projects that are exclusively non-residential (defined as those without units)\n",
    "df = df[df['units'] > 0]"
   ]
  },
  {
   "cell_type": "code",
   "execution_count": null,
   "metadata": {
    "collapsed": true
   },
   "outputs": [],
   "source": [
    "#Next, keep only those that reached completion at some point over the time period\n",
    "df=df[pd.notnull(df['comp_date'])]"
   ]
  },
  {
   "cell_type": "code",
   "execution_count": null,
   "metadata": {
    "collapsed": false
   },
   "outputs": [],
   "source": [
    "df.shape"
   ]
  },
  {
   "cell_type": "code",
   "execution_count": null,
   "metadata": {
    "collapsed": true
   },
   "outputs": [],
   "source": [
    "df=df[pd.notnull(df['firstfiled'])]"
   ]
  },
  {
   "cell_type": "code",
   "execution_count": null,
   "metadata": {
    "collapsed": false
   },
   "outputs": [],
   "source": [
    "df.shape"
   ]
  },
  {
   "cell_type": "code",
   "execution_count": null,
   "metadata": {
    "collapsed": false
   },
   "outputs": [],
   "source": [
    "#drop duplicates for now, until manual cleaning is done\n",
    "df= df[~ df.duplicated('dbi_permit', keep=False)]"
   ]
  },
  {
   "cell_type": "code",
   "execution_count": null,
   "metadata": {
    "collapsed": false
   },
   "outputs": [],
   "source": [
    "df.shape"
   ]
  },
  {
   "cell_type": "code",
   "execution_count": null,
   "metadata": {
    "collapsed": false
   },
   "outputs": [],
   "source": [
    "#convert completion date to date variables type\n",
    "df['project_duration_days'].describe()"
   ]
  },
  {
   "cell_type": "code",
   "execution_count": null,
   "metadata": {
    "collapsed": true
   },
   "outputs": [],
   "source": [
    "df['project_time_years']=df['project_duration_days']/365"
   ]
  },
  {
   "cell_type": "code",
   "execution_count": null,
   "metadata": {
    "collapsed": false
   },
   "outputs": [],
   "source": [
    "df['project_time_years'].describe()"
   ]
  },
  {
   "cell_type": "code",
   "execution_count": null,
   "metadata": {
    "collapsed": false
   },
   "outputs": [],
   "source": [
    "plt.figure(1, figsize=(8,6), )\n",
    "plt.suptitle('Figure 1. SF Housing Development Times', fontsize=20)\n",
    "plt.xlabel('Development Time (Years)', fontsize = 20)\n",
    "plt.ylabel('Number of Developments', fontsize = 20)\n",
    "plt.xticks(fontsize = 14)\n",
    "plt.yticks(fontsize = 14)\n",
    "ax = plt.hist(df['project_time_years'], bins=25, alpha=.6, color='g')\n",
    "plt.savefig('../../../hitogram.png')\n",
    "plt.show()"
   ]
  },
  {
   "cell_type": "code",
   "execution_count": null,
   "metadata": {
    "collapsed": false
   },
   "outputs": [],
   "source": [
    "# Project review time, normalized by amount of units\n",
    "#create unit-year category so that we normalize by units when comparing geographies\n",
    "df['years_per_unit']=df['project_time_years']/df['units']"
   ]
  },
  {
   "cell_type": "code",
   "execution_count": null,
   "metadata": {
    "collapsed": false
   },
   "outputs": [],
   "source": [
    "df['years_per_unit'].describe()"
   ]
  },
  {
   "cell_type": "code",
   "execution_count": null,
   "metadata": {
    "collapsed": false
   },
   "outputs": [],
   "source": [
    "plt.figure(1, figsize=(8,6), )\n",
    "plt.suptitle('Figure 2. SF Housing Development Times', fontsize=20)\n",
    "plt.xlabel('Years per Unit Added', fontsize=20)\n",
    "plt.ylabel('Number of Developments', fontsize=20)\n",
    "plt.xticks(fontsize = 14)\n",
    "plt.yticks(fontsize = 14)\n",
    "ax = plt.hist(df['years_per_unit'], bins=25, alpha=.6, color='g')\n",
    "plt.savefig('../../../hitogram_yearunits.png')\n",
    "plt.show()"
   ]
  },
  {
   "cell_type": "code",
   "execution_count": null,
   "metadata": {
    "collapsed": false
   },
   "outputs": [],
   "source": [
    "#Create dataset of net units added with \n",
    "list = []\n",
    "uniqueid = 0\n",
    "for index, row in df.iterrows():\n",
    "    amount = int(row['units'])\n",
    "    for units in range(0, amount):\n",
    "        dictionary = {}\n",
    "        dictionary['id']=uniqueid+1\n",
    "        dictionary['time']=row['project_time_years']\n",
    "        list.append(dictionary)\n",
    "        uniqueid=uniqueid+1\n",
    "df_units = pd.DataFrame(list)\n",
    "\n",
    "plt.figure(1, figsize=(10,10), )\n",
    "plt.suptitle('SF Housing Development Times', fontsize=20)\n",
    "plt.xlabel('Review Time (Years)', fontsize = 20)\n",
    "plt.ylabel('Number of Units Added', fontsize = 20)\n",
    "ax = plt.hist(df_units['time'], bins=25, alpha=.6, color='g')\n",
    "plt.savefig('../../../hitogram_units.png')\n",
    "plt.show()"
   ]
  },
  {
   "cell_type": "code",
   "execution_count": null,
   "metadata": {
    "collapsed": false
   },
   "outputs": [],
   "source": [
    "df_units['time'].describe()"
   ]
  },
  {
   "cell_type": "code",
   "execution_count": null,
   "metadata": {
    "collapsed": false
   },
   "outputs": [],
   "source": [
    "df['units'].describe()"
   ]
  },
  {
   "cell_type": "markdown",
   "metadata": {},
   "source": [
    "# Plot by unit category"
   ]
  },
  {
   "cell_type": "code",
   "execution_count": null,
   "metadata": {
    "collapsed": false
   },
   "outputs": [],
   "source": [
    "unit_cutoffs=[10, 50, 100, 200]\n",
    "def unit_categories(value):\n",
    "    if value['units'] <unit_cutoffs[0]:\n",
    "        field = '0'+'-'+str(unit_cutoffs[0])\n",
    "    elif (value['units'] >=unit_cutoffs[0]) & (value['units'] <unit_cutoffs[1]):\n",
    "        field = str(unit_cutoffs[0])+'-'+str(unit_cutoffs[1])\n",
    "    elif (value['units']>= unit_cutoffs[1]) & (value['units'] <unit_cutoffs[2]):\n",
    "        field = str(unit_cutoffs[1])+'-'+str(unit_cutoffs[2])\n",
    "    elif (value['units']>= unit_cutoffs[2]) & (value['units'] <200):\n",
    "        field = str(unit_cutoffs[2])+'-'+str(unit_cutoffs[3])\n",
    "    elif value['units']>=200:\n",
    "        field = '>'+str(unit_cutoffs[3])\n",
    "    return field\n",
    "    \n",
    "df['unitcat']=df.apply(unit_categories, axis=1)"
   ]
  },
  {
   "cell_type": "code",
   "execution_count": null,
   "metadata": {
    "collapsed": false
   },
   "outputs": [],
   "source": [
    "df['unitcat'].value_counts()"
   ]
  },
  {
   "cell_type": "code",
   "execution_count": null,
   "metadata": {
    "collapsed": false
   },
   "outputs": [],
   "source": [
    "cat_medians=[]\n",
    "categories=['0-10', '10-50', '50-100', '100-200', '>200']\n",
    "for cat in categories:\n",
    "    median = df[df['unitcat']==cat]['project_time_years'].median()\n",
    "    cat_medians.append(median)\n",
    "objects = df['unitcat'].unique()\n",
    "y_pos = np.arange(len(objects))"
   ]
  },
  {
   "cell_type": "code",
   "execution_count": null,
   "metadata": {
    "collapsed": false
   },
   "outputs": [],
   "source": [
    "df['unitcat'].unique()"
   ]
  },
  {
   "cell_type": "code",
   "execution_count": null,
   "metadata": {
    "collapsed": false
   },
   "outputs": [],
   "source": [
    "plt.figure(1, figsize=(8,6), )\n",
    "plt.suptitle('Figure 5. Development Time by Size Category', fontsize=20)\n",
    "plt.ylabel('Median Development Time (Years)', fontsize=20)\n",
    "plt.xlabel('Units Added', fontsize=20)\n",
    "plt.bar(y_pos, cat_medians, align='center', alpha=0.5)\n",
    "plt.xticks(y_pos, categories, fontsize=14)\n",
    "plt.yticks(fontsize = 14)\n",
    "plt.savefig('../../../bar_chart_times.png')\n",
    "plt.show()"
   ]
  },
  {
   "cell_type": "markdown",
   "metadata": {},
   "source": [
    "# Scatter Plot"
   ]
  },
  {
   "cell_type": "code",
   "execution_count": null,
   "metadata": {
    "collapsed": false
   },
   "outputs": [],
   "source": [
    "plt.figure(1, figsize=(10,10))\n",
    "plt.scatter(df['units'], df['project_time_years'], s=100)\n",
    "plt.suptitle('Figure 4. Development Time by Units Added', fontsize=20)\n",
    "plt.ylabel('Development Time (Years)', fontsize = 18)\n",
    "plt.xlabel('Number of Units Added', fontsize = 18)\n",
    "plt.xticks(fontsize=14)\n",
    "plt.yticks(fontsize = 14)\n",
    "plt.xlim([0,800])\n",
    "plt.ylim([0,25])\n",
    "plt.savefig('../../../scatter.png')"
   ]
  },
  {
   "cell_type": "code",
   "execution_count": null,
   "metadata": {
    "collapsed": false
   },
   "outputs": [],
   "source": [
    "# Top 5 longest projects\n",
    "df.sort_values('project_time_years', ascending = False)[0:5]"
   ]
  },
  {
   "cell_type": "code",
   "execution_count": null,
   "metadata": {
    "collapsed": false
   },
   "outputs": [],
   "source": [
    "# Top 5 longest projects\n",
    "df.sort_values('project_time_years', ascending = True)[0:5]"
   ]
  },
  {
   "cell_type": "markdown",
   "metadata": {},
   "source": [
    "# Breakdown by place. Possibly by average time per unit"
   ]
  },
  {
   "cell_type": "code",
   "execution_count": null,
   "metadata": {
    "collapsed": false
   },
   "outputs": [],
   "source": [
    "#first, convert points to geodataframe\n",
    "crs = {'init' :'epsg:4326'}\n",
    "geometry = [Point(xy) for xy in zip(df.x, df.y)]\n",
    "devs = GeoDataFrame(df, crs=crs, geometry=geometry)\n",
    "devs = devs.to_crs({'init': 'epsg:4326'}) "
   ]
  },
  {
   "cell_type": "code",
   "execution_count": null,
   "metadata": {
    "collapsed": false
   },
   "outputs": [],
   "source": [
    "devs.shape"
   ]
  },
  {
   "cell_type": "code",
   "execution_count": null,
   "metadata": {
    "collapsed": true
   },
   "outputs": [],
   "source": [
    "#import neighborhoods\n",
    "neighborhoods = gpd.read_file('../../../data/gis/41_neighborhoods/41_neighborhoods.shp')"
   ]
  },
  {
   "cell_type": "code",
   "execution_count": null,
   "metadata": {
    "collapsed": true
   },
   "outputs": [],
   "source": [
    "#convert boundaries to geographic coordinate system to conform to points\n",
    "neighborhoods = neighborhoods.to_crs({'init': 'epsg:4326'}) "
   ]
  },
  {
   "cell_type": "code",
   "execution_count": null,
   "metadata": {
    "collapsed": false
   },
   "outputs": [],
   "source": [
    "neighborhoods.shape"
   ]
  },
  {
   "cell_type": "code",
   "execution_count": null,
   "metadata": {
    "collapsed": false
   },
   "outputs": [],
   "source": [
    "#First, spatial join between points and neighborhood boundaries. Set 'how' to 'left' to preserve all developments\n",
    "df_nb = gpd.sjoin(devs, neighborhoods, how = 'inner', op='within')\n",
    "df_nb.shape"
   ]
  },
  {
   "cell_type": "markdown",
   "metadata": {
    "collapsed": true
   },
   "source": [
    "# Breakdown time by stage of process"
   ]
  },
  {
   "cell_type": "code",
   "execution_count": null,
   "metadata": {
    "collapsed": false
   },
   "outputs": [],
   "source": [
    "df = df[pd.notnull(df['BP_date'])]"
   ]
  },
  {
   "cell_type": "code",
   "execution_count": null,
   "metadata": {
    "collapsed": false
   },
   "outputs": [],
   "source": [
    "df.shape"
   ]
  },
  {
   "cell_type": "code",
   "execution_count": null,
   "metadata": {
    "collapsed": true
   },
   "outputs": [],
   "source": [
    "df = df[pd.notnull(df['con_date'])]"
   ]
  },
  {
   "cell_type": "code",
   "execution_count": null,
   "metadata": {
    "collapsed": false
   },
   "outputs": [],
   "source": [
    "df.shape"
   ]
  },
  {
   "cell_type": "code",
   "execution_count": null,
   "metadata": {
    "collapsed": true
   },
   "outputs": [],
   "source": [
    "df['permit_time']=df.apply(lambda x: ((dateutil.parser.parse(x['BP_date']) - dateutil.parser.parse(x['first_date'])).days)/365, axis=1)\n",
    "df['bp_time']=df.apply(lambda x: ((dateutil.parser.parse(x['con_date']) - dateutil.parser.parse(x['BP_date'])).days)/365, axis=1)\n",
    "df['con_time']=df.apply(lambda x: ((dateutil.parser.parse(x['comp_date']) - dateutil.parser.parse(x['con_date'])).days)/365, axis=1)"
   ]
  },
  {
   "cell_type": "code",
   "execution_count": null,
   "metadata": {
    "collapsed": false
   },
   "outputs": [],
   "source": [
    "df['bp_time'].describe()"
   ]
  },
  {
   "cell_type": "code",
   "execution_count": null,
   "metadata": {
    "collapsed": false
   },
   "outputs": [],
   "source": [
    "df['con_time'].describe()"
   ]
  },
  {
   "cell_type": "code",
   "execution_count": null,
   "metadata": {
    "collapsed": false
   },
   "outputs": [],
   "source": [
    "df['project_time_years'].describe()"
   ]
  },
  {
   "cell_type": "code",
   "execution_count": null,
   "metadata": {
    "collapsed": false
   },
   "outputs": [],
   "source": [
    "plt.figure(1, figsize=(16,14), )\n",
    "plt.suptitle(\"Figure 3. SF Development Times by Stage\", fontsize=24)\n",
    "\n",
    "ax = plt.subplot(221)\n",
    "ax.set_title(\"Entitlement Time\", fontsize=18)\n",
    "ax.set_xlabel('Time in Years', fontsize=18)\n",
    "ax.set_ylabel('Number of Developments', fontsize=18)\n",
    "plt.xlim([0,14])\n",
    "plt.ylim([0,80])\n",
    "plt.xticks(fontsize = 16)\n",
    "plt.yticks(fontsize = 16)\n",
    "ax.hist(df['permit_time'], bins=50, color='b')\n",
    "\n",
    "ax = plt.subplot(222)\n",
    "ax.set_title(\"Construction Prep Time\", fontsize=18)\n",
    "ax.set_xlabel('Time in Years', fontsize=18)\n",
    "ax.set_ylabel('Number of Developments', fontsize=18)\n",
    "plt.xlim([0,14])\n",
    "plt.ylim([0,80])\n",
    "plt.xticks(fontsize = 16)\n",
    "plt.yticks(fontsize = 16)\n",
    "ax.hist(df['bp_time'], bins=50, color='r')\n",
    "\n",
    "ax = plt.subplot(223)\n",
    "ax.set_title(\"Construction Time\", fontsize=18)\n",
    "ax.set_xlabel('Time in Years', fontsize=18)\n",
    "ax.set_ylabel('Number of Developments', fontsize=18)\n",
    "plt.xlim([0,14])\n",
    "plt.ylim([0,80])\n",
    "plt.xticks(fontsize = 16)\n",
    "plt.yticks(fontsize = 16)\n",
    "ax.hist(df['con_time'], bins=50, color='g')\n",
    "\n",
    "plt.savefig('../../../big_hist.png')"
   ]
  },
  {
   "cell_type": "code",
   "execution_count": null,
   "metadata": {
    "collapsed": false
   },
   "outputs": [],
   "source": [
    "ent_medians=[]\n",
    "bp_medians=[]\n",
    "cons_medians=[]\n",
    "categories=['0-10', '10-50', '50-100', '100-200', '>200']\n",
    "for cat in categories:\n",
    "    median1 = df[df['unitcat']==cat]['permit_time'].median()\n",
    "    median2 = df[df['unitcat']==cat]['bp_time'].median()\n",
    "    median3 = df[df['unitcat']==cat]['con_time'].median()\n",
    "    ent_medians.append(median1)\n",
    "    bp_medians.append(median2)\n",
    "    cons_medians.append(median3)\n",
    "objects = df['unitcat'].unique()\n",
    "y_pos = np.arange(len(objects))"
   ]
  },
  {
   "cell_type": "code",
   "execution_count": null,
   "metadata": {
    "collapsed": false
   },
   "outputs": [],
   "source": [
    "plt.figure(1, figsize=(16,14), )\n",
    "plt.suptitle(\"Figure 6. Development Stages by Size Category\", fontsize=24)\n",
    "\n",
    "ax = plt.subplot(221)\n",
    "ax.set_title('Median Entitlement Time', fontsize=18)\n",
    "ax.set_xlabel('Number of Units', fontsize=18)\n",
    "ax.set_ylabel('Years', fontsize=18)\n",
    "ax.set_xticks(y_pos)\n",
    "ax.set_xticklabels(categories)\n",
    "ax.set_ylim([0,4])\n",
    "ax.bar(y_pos, ent_medians, align='center', color='b')\n",
    "\n",
    "ax = plt.subplot(222)\n",
    "ax.set_title('Median Construction Prep Time', fontsize=18)\n",
    "ax.set_xlabel('Number of Units', fontsize=18)\n",
    "ax.set_ylabel('Years', fontsize=18)\n",
    "ax.set_xticks(y_pos)\n",
    "ax.set_xticklabels(categories)\n",
    "ax.set_ylim([0,4])\n",
    "ax.bar(y_pos, bp_medians, align='center', color='r')\n",
    "\n",
    "ax = plt.subplot(223)\n",
    "ax.set_title('Median Construction  Time', fontsize=18)\n",
    "ax.set_xlabel('Number of Units', fontsize=18)\n",
    "ax.set_ylabel('Years', fontsize=18)\n",
    "ax.set_xticks(y_pos)\n",
    "ax.set_xticklabels(categories)\n",
    "ax.set_ylim([0,4])\n",
    "ax.bar(y_pos, cons_medians, align='center', color='g')\n",
    "\n",
    "plt.savefig('../../../big_bar.png')"
   ]
  },
  {
   "cell_type": "markdown",
   "metadata": {},
   "source": [
    "# Create Neighborhood Graphs"
   ]
  },
  {
   "cell_type": "code",
   "execution_count": null,
   "metadata": {
    "collapsed": true
   },
   "outputs": [],
   "source": [
    "#create separate geodataframe for just those with all dates\n",
    "df_nb_full = df_nb[pd.notnull(df_nb['BP_date'])]"
   ]
  },
  {
   "cell_type": "code",
   "execution_count": null,
   "metadata": {
    "collapsed": false
   },
   "outputs": [],
   "source": [
    "# for these graphs, drop if neighborhood has sample less than 10\n",
    "for nhood in df_nb_full['nhood'].value_counts().index:\n",
    "    if df_nb_full[df_nb_full['nhood']==nhood]['BP_date'].count() <10:\n",
    "        df_nb_full=df_nb_full[df_nb_full['nhood']!=nhood]"
   ]
  },
  {
   "cell_type": "code",
   "execution_count": null,
   "metadata": {
    "collapsed": false
   },
   "outputs": [],
   "source": [
    "df_nb_full['permit_time']=df_nb_full.apply(lambda x: ((dateutil.parser.parse(x['BP_date']) - dateutil.parser.parse(x['first_date'])).days)/365, axis=1)\n"
   ]
  },
  {
   "cell_type": "code",
   "execution_count": null,
   "metadata": {
    "collapsed": false
   },
   "outputs": [],
   "source": [
    "df_nb_full['ptime_unityears']=df_nb_full['permit_time']/df_nb_full['units']"
   ]
  },
  {
   "cell_type": "code",
   "execution_count": null,
   "metadata": {
    "collapsed": true
   },
   "outputs": [],
   "source": [
    "p_medians=[]\n",
    "pcategories = df_nb_full['nhood'].unique().tolist()\n",
    "pcategories = sorted(pcategories, key=lambda x: df_nb_full[df_nb_full['nhood']==x]['ptime_unityears'].median())"
   ]
  },
  {
   "cell_type": "code",
   "execution_count": null,
   "metadata": {
    "collapsed": true
   },
   "outputs": [],
   "source": [
    "for cat in pcategories:\n",
    "    median = df_nb_full[df_nb_full['nhood']==cat]['ptime_unityears'].median()\n",
    "    p_medians.append(median)\n",
    "y_pos=np.arange(len(pcategories))"
   ]
  },
  {
   "cell_type": "code",
   "execution_count": null,
   "metadata": {
    "collapsed": false
   },
   "outputs": [],
   "source": [
    "plt.figure(1, figsize=(12,8))\n",
    "plt.suptitle('Figure 8. SF Entitlement Times by Neighborhood', fontsize=20)\n",
    "plt.ylabel('Median Entitlement Time (Years per Unit)', fontsize=18)\n",
    "plt.xlabel('Neighborhood', fontsize=18)\n",
    "plt.bar(y_pos, p_medians, align='center', alpha=1, width=0.8, color='r')\n",
    "plt.xticks(y_pos, pcategories, rotation=90, fontsize=12)\n",
    "plt.savefig('../../../nhood2.png')\n",
    "plt.show()"
   ]
  },
  {
   "cell_type": "code",
   "execution_count": null,
   "metadata": {
    "collapsed": true
   },
   "outputs": [],
   "source": [
    "cat_medians=[]\n",
    "categories=df_nb_full['nhood'].unique().tolist()\n",
    "categories = sorted(categories, key=lambda x: df_nb_full[df_nb_full['nhood']==x]['years_per_unit'].median())"
   ]
  },
  {
   "cell_type": "code",
   "execution_count": null,
   "metadata": {
    "collapsed": true
   },
   "outputs": [],
   "source": [
    "for cat in categories:\n",
    "    median = df_nb_full[df_nb_full['nhood']==cat]['years_per_unit'].median()\n",
    "    cat_medians.append(median)"
   ]
  },
  {
   "cell_type": "code",
   "execution_count": null,
   "metadata": {
    "collapsed": true
   },
   "outputs": [],
   "source": [
    "y_pos=np.arange(len(categories))"
   ]
  },
  {
   "cell_type": "code",
   "execution_count": null,
   "metadata": {
    "collapsed": false
   },
   "outputs": [],
   "source": [
    "plt.figure(1, figsize=(12,8))\n",
    "plt.suptitle('Figure 7. SF Development Times by Neighborhood', fontsize=20)\n",
    "plt.ylabel('Median Development Time (Years per Unit)', fontsize=18)\n",
    "plt.xlabel('Neighborhood', fontsize=18)\n",
    "plt.bar(y_pos, cat_medians, align='center', alpha=1, width=0.8, color='b')\n",
    "plt.xticks(y_pos, categories, rotation=90, fontsize=12)\n",
    "plt.savefig('../../../nhood1.png')\n",
    "plt.show()"
   ]
  },
  {
   "cell_type": "code",
   "execution_count": null,
   "metadata": {
    "collapsed": false
   },
   "outputs": [],
   "source": [
    "df_nb_full.shape"
   ]
  },
  {
   "cell_type": "code",
   "execution_count": null,
   "metadata": {
    "collapsed": true
   },
   "outputs": [],
   "source": []
  }
 ],
 "metadata": {
  "anaconda-cloud": {},
  "kernelspec": {
   "display_name": "Python [Root]",
   "language": "python",
   "name": "Python [Root]"
  },
  "language_info": {
   "codemirror_mode": {
    "name": "ipython",
    "version": 3
   },
   "file_extension": ".py",
   "mimetype": "text/x-python",
   "name": "python",
   "nbconvert_exporter": "python",
   "pygments_lexer": "ipython3",
   "version": "3.5.2"
  }
 },
 "nbformat": 4,
 "nbformat_minor": 0
}
